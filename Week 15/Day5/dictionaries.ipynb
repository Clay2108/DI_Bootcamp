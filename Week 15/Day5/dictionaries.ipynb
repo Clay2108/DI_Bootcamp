{
 "cells": [
  {
   "cell_type": "code",
   "execution_count": null,
   "id": "588b0d39",
   "metadata": {},
   "outputs": [],
   "source": []
  },
  {
   "cell_type": "code",
   "execution_count": 3,
   "id": "f1b52a72",
   "metadata": {},
   "outputs": [
    {
     "name": "stdout",
     "output_type": "stream",
     "text": [
      "{'name': 'John Doe', 'age': 30, 'city': 'New York', 'is_student': False, 'courses': ['Math', 'Science', 'History'], 'married': False}\n",
      "30\n",
      "History\n",
      "{'name': 'John Doe', 'age': 35, 'city': 'New York', 'is_student': False, 'courses': ['Math', 'Science', 'History'], 'married': False, 'School': 'XYZ University'}\n",
      "{'name': 'John Doe', 'age': 35, 'city': 'New York', 'courses': ['Math', 'Science', 'History'], 'married': False, 'School': 'XYZ University'}\n"
     ]
    }
   ],
   "source": [
    "person= {\n",
    "    \"name\": \"John Doe\",\n",
    "    \"age\": 30,\n",
    "    \"city\": \"New York\",\n",
    "    \"is_student\": False,\n",
    "    \"courses\": [\"Math\", \"Science\", \"History\"],\n",
    "    \"married\": False,\n",
    "}\n",
    "\n",
    "print(person)\n",
    "print(person[\"age\"])\n",
    "print(person[\"courses\"][2])\n",
    "person['age']=35\n",
    "person['School']=\"XYZ University\"\n",
    "print(person)\n",
    "del person['is_student']\n",
    "print(person)"
   ]
  },
  {
   "cell_type": "code",
   "execution_count": 5,
   "id": "bc70f6cf",
   "metadata": {},
   "outputs": [
    {
     "name": "stdout",
     "output_type": "stream",
     "text": [
      "dict_keys(['name', 'age', 'city', 'is_student', 'courses', 'married'])\n",
      "dict_values(['John Doe', 30, 'New York', False, ['Math', 'Science', 'History'], False])\n",
      "dict_items([('name', 'John Doe'), ('age', 30), ('city', 'New York'), ('is_student', False), ('courses', ['Math', 'Science', 'History']), ('married', False)])\n"
     ]
    }
   ],
   "source": [
    "person= {\n",
    "    \"name\": \"John Doe\",\n",
    "    \"age\": 30,\n",
    "    \"city\": \"New York\",\n",
    "    \"is_student\": False,\n",
    "    \"courses\": [\"Math\", \"Science\", \"History\"],\n",
    "    \"married\": False,\n",
    "}\n",
    "\n",
    "print (person.keys())\n",
    "print (person.values())\n",
    "print (person.items())"
   ]
  },
  {
   "cell_type": "code",
   "execution_count": 6,
   "id": "ae70f689",
   "metadata": {},
   "outputs": [
    {
     "name": "stdout",
     "output_type": "stream",
     "text": [
      "name: John Doe\n",
      "age: 30\n",
      "city: New York\n",
      "is_student: False\n",
      "courses: ['Math', 'Science', 'History']\n",
      "married: False\n"
     ]
    }
   ],
   "source": [
    "for key, value in person.items():\n",
    "    print(f\"{key}: {value}\")"
   ]
  },
  {
   "cell_type": "code",
   "execution_count": 8,
   "id": "09f84241",
   "metadata": {},
   "outputs": [
    {
     "name": "stdout",
     "output_type": "stream",
     "text": [
      "{'name': 'Eve Davis', 'age': 27, 'city': 'Boston', 'is_student': True, 'courses': ['Psychology', 'Sociology'], 'married': False}\n",
      "['Physics', 'Math']\n"
     ]
    }
   ],
   "source": [
    "#Nested Dictionary\n",
    "# Nested Dictionary\n",
    "student = {\n",
    "    \"John\": {\n",
    "        \"name\": \"John Doe\",\n",
    "        \"age\": 30,\n",
    "        \"city\": \"New York\",\n",
    "        \"is_student\": False,\n",
    "        \"courses\": [\"Math\", \"Science\", \"History\"],\n",
    "        \"married\": False,\n",
    "    },\n",
    "    \"Mary\": {\n",
    "        \"name\": \"Mary Jane\",\n",
    "        \"age\": 25,\n",
    "        \"city\": \"Los Angeles\",\n",
    "        \"is_student\": True,\n",
    "        \"courses\": [\"Biology\", \"Chemistry\"],\n",
    "        \"married\": False,\n",
    "    },\n",
    "    \"Mike\": {\n",
    "        \"name\": \"Mike Smith\",\n",
    "        \"age\": 28,\n",
    "        \"city\": \"Chicago\",\n",
    "        \"is_student\": False,\n",
    "        \"courses\": [\"Physics\", \"Math\"],\n",
    "        \"married\": True,\n",
    "    },\n",
    "    \"Alice\": {\n",
    "        \"name\": \"Alice Johnson\",\n",
    "        \"age\": 22,\n",
    "        \"city\": \"San Francisco\",\n",
    "        \"is_student\": True,\n",
    "        \"courses\": [\"Art\", \"Design\"],\n",
    "        \"married\": False,\n",
    "    },\n",
    "    \"Bob\": {\n",
    "        \"name\": \"Bob Brown\",\n",
    "        \"age\": 35,\n",
    "        \"city\": \"Seattle\",\n",
    "        \"is_student\": False,\n",
    "        \"courses\": [\"Business\", \"Economics\"],\n",
    "        \"married\": True,\n",
    "    },\n",
    "    \"Eve\":{\n",
    "        \"name\": \"Eve Davis\",\n",
    "        \"age\": 27,\n",
    "        \"city\": \"Boston\",\n",
    "        \"is_student\": True,\n",
    "        \"courses\": [\"Psychology\", \"Sociology\"],\n",
    "        \"married\": False,   \n",
    "    }\n",
    "}\n",
    "\n",
    "print(student['Eve'])\n",
    "print(student['Mike']['courses'])"
   ]
  },
  {
   "cell_type": "code",
   "execution_count": null,
   "id": "67da75ed",
   "metadata": {},
   "outputs": [
    {
     "name": "stdout",
     "output_type": "stream",
     "text": [
      "Score: 85, Subject: Math\n",
      "Score: 90, Subject: Science\n",
      "Score: 78, Subject: History\n",
      "Score: 88, Subject: English\n",
      "Score: 92, Subject: Art\n",
      "Score: 95, Subject: Music\n",
      "Result 1: Score: 85, Subject: Math\n",
      "Result 2: Score: 90, Subject: Science\n",
      "Result 3: Score: 78, Subject: History\n",
      "Result 4: Score: 88, Subject: English\n",
      "Result 5: Score: 92, Subject: Art\n",
      "Result 6: Score: 95, Subject: Music\n"
     ]
    }
   ],
   "source": [
    "results= [\n",
    "    {'score': 85, 'subject': 'Math'},\n",
    "    {'score': 90, 'subject': 'Science'},\n",
    "    {'score': 78, 'subject': 'History'},\n",
    "    {'score': 88, 'subject': 'English'},\n",
    "    {'score': 92, 'subject': 'Art'},\n",
    "    {'score': 95, 'subject': 'Music'},\n",
    "]\n",
    "\n",
    "for result in results:\n",
    "    print(f\"Score: {result['score']}, Subject: {result['subject']}\")\n",
    "\n",
    "for i,result in enumerate(results):\n",
    "    print(i,result)"
   ]
  }
 ],
 "metadata": {
  "kernelspec": {
   "display_name": "Python 3",
   "language": "python",
   "name": "python3"
  },
  "language_info": {
   "codemirror_mode": {
    "name": "ipython",
    "version": 3
   },
   "file_extension": ".py",
   "mimetype": "text/x-python",
   "name": "python",
   "nbconvert_exporter": "python",
   "pygments_lexer": "ipython3",
   "version": "3.11.9"
  }
 },
 "nbformat": 4,
 "nbformat_minor": 5
}
