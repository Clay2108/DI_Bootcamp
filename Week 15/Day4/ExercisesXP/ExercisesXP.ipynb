{
 "cells": [
  {
   "cell_type": "code",
   "execution_count": null,
   "id": "1ef9b1a3",
   "metadata": {},
   "outputs": [],
   "source": [
    "# Exercise 1: Favorite Numbers\n",
    "my_fav_numbers= {5,3,8,12,16,21}\n",
    "my_fav_numbers.add(4)\n",
    "my_fav_numbers.add(7)\n",
    "print (my_fav_numbers)\n",
    "\n",
    "friend_fav_numbers= {2,6,10,13}\n",
    "our_fav_numbers= my_fav_numbers.union(friend_fav_numbers)\n",
    "print (our_fav_numbers)"
   ]
  },
  {
   "cell_type": "code",
   "execution_count": null,
   "id": "3387cad5",
   "metadata": {},
   "outputs": [],
   "source": [
    "# Exercise 2: Tuple\n",
    "# Given a tuple of integers, try to add more integers to the tuple.\n",
    "# Hint: Tuples are immutable, meaning they cannot be changed after creation. Think about why you can’t add more integers to a tuple.\n",
    "\n",
    "my_tuple =(1,2,3,4,5)\n",
    "my_tuple.add(6)\n",
    "print (my_tuple)"
   ]
  },
  {
   "cell_type": "code",
   "execution_count": null,
   "id": "0d62ee3e",
   "metadata": {},
   "outputs": [],
   "source": [
    "# Exercise 3: List Manipulation\n",
    "\n",
    "basket = [\"Banana\", \"Apples\", \"Oranges\", \"Blueberries\"]\n",
    "# Remove \"Banana\" from the list\n",
    "basket.remove(\"Banana\")\n",
    "print(basket)\n",
    "basket.pop()\n",
    "print (basket)\n",
    "basket.insert(2, 'kiwi')\n",
    "print(basket)\n",
    "basket.insert(0,'Apples')\n",
    "print(basket.count('Apples'))\n",
    "print(basket.clear())\n",
    "print (basket)"
   ]
  },
  {
   "cell_type": "code",
   "execution_count": null,
   "id": "25dbb5d1",
   "metadata": {},
   "outputs": [],
   "source": [
    "# Exercise 4: Floats\n",
    "# Recap: What is a float? What’s the difference between a float and an integer?\n",
    "# A float is a number , positve or negative , containing one or more decimals \n",
    "# An integer is a whole number, positve or negative, without decimals of unlimited length\n",
    "\n",
    "# Create a list containing the following sequence of mixed floats and integers:\n",
    "# 1.5, 2, 2.5, 3, 3.5, 4, 4.5, 5.\n",
    "# Avoid hard-coding each number manually.\n",
    "# Think: Can you generate this sequence using a loop or another method?\n",
    "\n",
    "my_list = [1.5, 2, 2.5, 3, 3.5, 4, 4.5, 5]\n",
    "print (my_list)\n",
    "\n",
    "# Avoid hard-coding each number manually.\n",
    "# Think: Can you generate this sequence using a loop or another method?\n",
    "my_list = []\n",
    "for i in range(3, 11):\n",
    "    my_list.append(i / 2)       \n",
    "\n",
    "print (my_list)"
   ]
  },
  {
   "cell_type": "code",
   "execution_count": null,
   "id": "83b71375",
   "metadata": {},
   "outputs": [],
   "source": [
    "# Exercise 5: For Loop\n",
    "\n",
    "    # Write a for loop to print all numbers from 1 to 20, inclusive.\n",
    "for i in range(1, 21):\n",
    "    print(i)\n",
    "\n",
    "    # Write a for loop to print all even numbers from 1 to 20, inclusive.\n",
    "for i in range(1, 21):\n",
    "    if i % 2 == 0:\n",
    "        print(i)\n",
    "\n",
    "    # Write a for loop to print all odd numbers from 1 to 20, inclusive."
   ]
  },
  {
   "cell_type": "code",
   "execution_count": null,
   "id": "3b76066f",
   "metadata": {},
   "outputs": [],
   "source": [
    "# # Exercise 6: While Loop\n",
    "\n",
    "#     Write a while loop that keeps asking the user to enter their name.\n",
    "# Stop the loop if the user’s input is your name\n",
    "while True:\n",
    "    name = input(\"Enter your name: \")\n",
    "    if name == \"Clayton\":\n",
    "        print(\"Hello Clayton\")\n",
    "        break\n",
    "    else:\n",
    "        print(\"Please enter your name again\")\n"
   ]
  },
  {
   "cell_type": "code",
   "execution_count": null,
   "id": "8bdb68ba",
   "metadata": {},
   "outputs": [],
   "source": [
    "# Exercise 7: Favorite Fruits\n",
    "# Ask the user to input their favorite fruits (they can input several fruits, separated by spaces).\n",
    "# Store these fruits in a list.\n",
    "\n",
    "fruits = input(\"Enter your favorite fruits: \")\n",
    "fruits_list = fruits.split()\n",
    "print(\"Your favorite fruits are:\", fruits_list)\n",
    "\n",
    "# Ask the user to input a fruit\n",
    "chosen_fruit = input(\"Enter a fruit: \")\n",
    "\n",
    "# If the fruit is in their list of favorite fruits, print a message saying they like that fruit.\n",
    "if chosen_fruit in fruits_list:\n",
    "    print(f\"You choose, {chosen_fruit} one of your favorite fruits! Enjoy!\")\n",
    "else:\n",
    "    print(f\"You choose, {chosen_fruit} a new fruit. I hope you enjoy it!\")\n",
    "\n"
   ]
  },
  {
   "cell_type": "code",
   "execution_count": null,
   "id": "9eb9422b",
   "metadata": {},
   "outputs": [],
   "source": [
    "# Exercise 8: Pizza Toppings\n",
    "pizza_toppings = []\n",
    "while True:\n",
    "    toppings=input( \"Enter pizza toppings:\")\n",
    "    if toppings == \"quit\":\n",
    "        break\n",
    "    else:\n",
    "        pizza_toppings.append(toppings)\n",
    "        print(f\"Adding {toppings} to your pizza.\")\n",
    "#         After exiting the loop, print all the toppings and the total cost of the pizza.\n",
    "# The base price is $10, and each topping adds $2.50.\n",
    "base_price = 10\n",
    "topping_price = 2.50\n",
    "total_price = base_price + (len(pizza_toppings) * topping_price)\n",
    "print(f\"Your pizza toppings are: {pizza_toppings}\")\n",
    "print(f\"Total cost of your pizza is: ${total_price:.2f}\")"
   ]
  },
  {
   "cell_type": "code",
   "execution_count": 79,
   "id": "3ce99670",
   "metadata": {},
   "outputs": [
    {
     "name": "stdout",
     "output_type": "stream",
     "text": [
      "You are not allowed to watch this movie.\n"
     ]
    }
   ],
   "source": [
    "# Exercise 9: Cinemax Tickets\n",
    "# Age= input (\"Enter your age before you buy a ticket:\")\n",
    "\n",
    "# if int(Age) < 3:\n",
    "#     print(\"Your ticket is free!\")\n",
    "# elif int(Age)>=3 and int (Age) <12:\n",
    "#     print(\"Your ticket is $10.\")\n",
    "# elif int (Age)>12:\n",
    "#     print(\"Your ticket is $15.\")\n",
    "\n",
    "\n",
    "#Bonus\n",
    "# Imagine a group of teenagers wants to see a restricted movie (only for ages 16–21).\n",
    "# Write a program to:\n",
    "# Ask for each person’s age.\n",
    "# Remove anyone who isn’t allowed to watch.\n",
    "# Print the final list of attendees.\n",
    "\n",
    "Person = input(\"Enter your age:\")\n",
    "if int(Person) < 16:\n",
    "    print(\"You are not allowed to watch this movie.\")\n",
    "elif 16 <= int(Person) <= 21:\n",
    "    print(\"You are allowed to watch this movie.\")\n",
    "else:\n",
    "    print(\"You are not allowed to watch this movie.\")\n"
   ]
  },
  {
   "cell_type": "code",
   "execution_count": 91,
   "id": "88e643a8",
   "metadata": {},
   "outputs": [
    {
     "name": "stdout",
     "output_type": "stream",
     "text": [
      "The deli has run out of Pastrami.\n",
      "Updated sandwich orders: ['Tuna', 'Avocado', 'Egg', 'Chicken']\n",
      "I made your Tuna sandwich.\n",
      "I made your Avocado sandwich.\n",
      "I made your Egg sandwich.\n",
      "I made your Chicken sandwich.\n",
      "Finished sandwiches: ['Tuna', 'Avocado', 'Egg', 'Chicken']\n"
     ]
    }
   ],
   "source": [
    "# Exercise 10: Sandwich Orders\n",
    "sandwich_orders = [\"Tuna\", \"Pastrami\", \"Avocado\", \"Pastrami\", \"Egg\", \"Chicken\", \"Pastrami\"]\n",
    "# The deli has run out of “Pastrami”, so use a loop to remove all instances of “Pastrami” from the list.\n",
    "while \"Pastrami\" in sandwich_orders:\n",
    "    sandwich_orders.remove(\"Pastrami\")\n",
    "print(\"The deli has run out of Pastrami.\")\n",
    "print(\"Updated sandwich orders:\", sandwich_orders)\n",
    "\n",
    "finished_sandwiches =[]\n",
    "for sandwich in sandwich_orders:\n",
    "    print(f\"I made your {sandwich} sandwich.\")\n",
    "    finished_sandwiches.append(sandwich)\n",
    "print(\"Finished sandwiches:\", finished_sandwiches)\n"
   ]
  }
 ],
 "metadata": {
  "kernelspec": {
   "display_name": "Python 3",
   "language": "python",
   "name": "python3"
  },
  "language_info": {
   "codemirror_mode": {
    "name": "ipython",
    "version": 3
   },
   "file_extension": ".py",
   "mimetype": "text/x-python",
   "name": "python",
   "nbconvert_exporter": "python",
   "pygments_lexer": "ipython3",
   "version": "3.11.9"
  }
 },
 "nbformat": 4,
 "nbformat_minor": 5
}
