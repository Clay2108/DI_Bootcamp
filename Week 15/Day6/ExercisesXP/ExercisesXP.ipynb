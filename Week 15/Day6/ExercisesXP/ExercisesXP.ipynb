{
 "cells": [
  {
   "cell_type": "code",
   "execution_count": 40,
   "id": "3089252b",
   "metadata": {},
   "outputs": [
    {
     "name": "stdout",
     "output_type": "stream",
     "text": [
      "{'name': 'Zara', 'creation_date': 1975, 'creator_name': 'Amancio Ortega Gaona', 'type_of_clothes': ['men', 'women', 'children', 'home'], 'international_competitors': ['Gap', 'H&M', 'Benetton'], 'number_stores': 2, 'major_color': {'France': 'blue', 'Spain': 'red', 'US': ['pink', 'green']}}\n",
      "Zara's clients can find diffrent type of clothes for men, women, children, home.\n",
      "{'name': 'Zara', 'creation_date': 1975, 'creator_name': 'Amancio Ortega Gaona', 'type_of_clothes': ['men', 'women', 'children', 'home'], 'international_competitors': ['Gap', 'H&M', 'Benetton'], 'number_stores': 2, 'major_color': {'France': 'blue', 'Spain': 'red', 'US': ['pink', 'green']}, 'country_creation': 'Spain'}\n",
      "{'name': 'Zara', 'creation_date': 1975, 'creator_name': 'Amancio Ortega Gaona', 'type_of_clothes': ['men', 'women', 'children', 'home'], 'international_competitors': ['Gap', 'H&M', 'Benetton', 'Desigual'], 'number_stores': 2, 'major_color': {'France': 'blue', 'Spain': 'red', 'US': ['pink', 'green']}, 'country_creation': 'Spain'}\n",
      "{'name': 'Zara', 'creator_name': 'Amancio Ortega Gaona', 'type_of_clothes': ['men', 'women', 'children', 'home'], 'international_competitors': ['Gap', 'H&M', 'Benetton', 'Desigual'], 'number_stores': 2, 'major_color': {'France': 'blue', 'Spain': 'red', 'US': ['pink', 'green']}, 'country_creation': 'Spain'}\n",
      "Desigual\n",
      "['pink', 'green']\n",
      "7\n",
      "dict_keys(['name', 'creator_name', 'type_of_clothes', 'international_competitors', 'number_stores', 'major_color', 'country_creation'])\n",
      "{'name': 'Zara', 'creator_name': 'Amancio Ortega Gaona', 'type_of_clothes': ['men', 'women', 'children', 'home'], 'international_competitors': ['Gap', 'H&M', 'Benetton', 'Desigual'], 'number_stores': 7000, 'major_color': {'France': 'blue', 'Spain': 'red', 'US': ['pink', 'green']}, 'country_creation': 'Spain', 'creation_date': 1975}\n"
     ]
    }
   ],
   "source": [
    "# Exercise 3: Zara\n",
    "brand = {\n",
    "    \"name\": \"Zara\",\n",
    "    \"creation_date\": 1975,\n",
    "    \"creator_name\": \"Amancio Ortega Gaona\",\n",
    "    \"type_of_clothes\": [\"men\", \"women\", \"children\", \"home\"],\n",
    "    \"international_competitors\": [\"Gap\", \"H&M\", \"Benetton\"],\n",
    "    \"number_stores\": 7000,\n",
    "    \"major_color\": {\n",
    "        \"France\": \"blue\",\n",
    "        \"Spain\": \"red\",\n",
    "        \"US\": [\"pink\", \"green\"]\n",
    "    }\n",
    "}\n",
    "#Change the value of number_stores to 2.\n",
    "brand[\"number_stores\"] = 2\n",
    "print(brand)\n",
    "\n",
    "# Print a sentence describing Zara’s clients using the type_of_clothes key.\n",
    "print(f\"Zara's clients can find diffrent type of clothes for {', '.join(brand['type_of_clothes'])}.\")\n",
    "\n",
    "#Add a new key country_creation with the value Spain.\n",
    "brand[\"country_creation\"]=\"Spain\"\n",
    "print(brand)\n",
    "\n",
    "#Check if international_competitors exists and, if so, add “Desigual” to the list.\n",
    "brand[\"international_competitors\"].append(\"Desigual\")\n",
    "print(brand)\n",
    "\n",
    "#Delete the creation_date key.\n",
    "del brand[\"creation_date\"]\n",
    "print(brand)\n",
    "\n",
    "\n",
    "# Print the last item in international_competitors\n",
    "print((brand)[\"international_competitors\"][-1])\n",
    "\n",
    "#Print the major colors in the US.\n",
    "print(brand[\"major_color\"][\"US\"])\n",
    "\n",
    "# Print the number of keys in the dictionary.\n",
    "print(len(brand))\n",
    "\n",
    "#Print all keys of the dictionary.\n",
    "print(brand.keys())\n",
    "\n",
    "\n",
    "# Create another dictionary called more_on_zara with creation_date and number_stores. Merge this dictionary with the original brand dictionary and print the result.\n",
    "\n",
    "more_on_zara = {    \n",
    "    \"creation_date\": 1975,\n",
    "    \"number_stores\": 7000\n",
    "}\n",
    "brand.update(more_on_zara)\n",
    "print(brand)\n"
   ]
  },
  {
   "cell_type": "code",
   "execution_count": 1,
   "id": "80a37c03",
   "metadata": {},
   "outputs": [
    {
     "name": "stdout",
     "output_type": "stream",
     "text": [
      "{'Mickey': 0, 'Minnie': 1, 'Donald': 2, 'Ariel': 3, 'Pluto': 4}\n"
     ]
    }
   ],
   "source": [
    "# Exercise 4: Disney Characters\n",
    "\n",
    "users = [\"Mickey\", \"Minnie\", \"Donald\", \"Ariel\", \"Pluto\"]\n",
    "# Create a dictionary that maps characters to their indices:\n",
    "character_indices = {character: index for index, character in enumerate(users)} \n",
    "print(character_indices)\n",
    "\n"
   ]
  },
  {
   "cell_type": "code",
   "execution_count": 7,
   "id": "8435a2b3",
   "metadata": {},
   "outputs": [
    {
     "name": "stdout",
     "output_type": "stream",
     "text": [
      "{0: 'Mickey', 1: 'Minnie', 2: 'Donald', 3: 'Ariel', 4: 'Pluto'}\n"
     ]
    }
   ],
   "source": [
    "# Create a dictionary that maps indices to characters:\n",
    "users = [\"Mickey\", \"Minnie\", \"Donald\", \"Ariel\", \"Pluto\"]\n",
    "index_characters = {index: character for index, character in enumerate(users)}\n",
    "print(index_characters)"
   ]
  },
  {
   "cell_type": "code",
   "execution_count": 2,
   "id": "3aa0724d",
   "metadata": {},
   "outputs": [
    {
     "name": "stdout",
     "output_type": "stream",
     "text": [
      "{'Ariel': 0, 'Donald': 1, 'Mickey': 2, 'Minnie': 3, 'Pluto': 4}\n"
     ]
    }
   ],
   "source": [
    "#  Create a dictionary where characters are sorted alphabetically and mapped to their indices:\n",
    "users = [\"Mickey\", \"Minnie\", \"Donald\", \"Ariel\", \"Pluto\"]\n",
    "sorted_characters = sorted(users)\n",
    "sorted_character_indices = {character: index for index, character in enumerate(sorted_characters)}\n",
    "print(sorted_character_indices)"
   ]
  }
 ],
 "metadata": {
  "kernelspec": {
   "display_name": "Python 3",
   "language": "python",
   "name": "python3"
  },
  "language_info": {
   "codemirror_mode": {
    "name": "ipython",
    "version": 3
   },
   "file_extension": ".py",
   "mimetype": "text/x-python",
   "name": "python",
   "nbconvert_exporter": "python",
   "pygments_lexer": "ipython3",
   "version": "3.11.9"
  }
 },
 "nbformat": 4,
 "nbformat_minor": 5
}
