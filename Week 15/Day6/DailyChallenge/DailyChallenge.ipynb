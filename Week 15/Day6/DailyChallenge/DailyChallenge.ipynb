{
 "cells": [
  {
   "cell_type": "code",
   "execution_count": 4,
   "id": "b0239360",
   "metadata": {},
   "outputs": [
    {
     "name": "stdout",
     "output_type": "stream",
     "text": [
      "froggy\n",
      "{'f': [0], 'r': [1], 'o': [2], 'g': [3, 4], 'y': [5]}\n"
     ]
    }
   ],
   "source": [
    "# Challenge 1: Letter Index Dictionary\n",
    "user = input(\"Enter a word:\")\n",
    "#  Store the input word in a variable.\n",
    "user= user.lower()\n",
    "print (user)\n",
    "\n",
    "# Creating the Dictionary:\n",
    "\n",
    "# Iterate through each character of the input word using a loop.\n",
    "# And check if the character is already a key in the dictionary.\n",
    "# If it is, append the current index to the list associated with that key.\n",
    "# If it is not, create a new key-value pair in the dictionary.\n",
    "# Ensure that the characters (keys) are strings.\n",
    "# Ensure that the indices (values) are stored in lists.\n",
    "\n",
    "letter_index = {}\n",
    "for index, letter in enumerate(user):\n",
    "    if letter in letter_index:\n",
    "        letter_index[letter].append(index)\n",
    "    else:\n",
    "        letter_index[letter] = [index]  \n",
    "\n",
    "print(letter_index)"
   ]
  },
  {
   "cell_type": "code",
   "execution_count": null,
   "id": "5903e221",
   "metadata": {},
   "outputs": [
    {
     "name": "stdout",
     "output_type": "stream",
     "text": [
      "['Bread', 'Fertilizer', 'Water']\n",
      "Nothing\n"
     ]
    }
   ],
   "source": [
    "# Challenge 2: Affordable Items\n",
    "\n",
    "items_purchase = {\"Water\": \"$1\", \"Bread\": \"$3\", \"TV\": \"$1,000\", \"Fertilizer\": \"$20\"}\n",
    "wallet = \"$300\"\n",
    "# Sort the list of affordable items in alphabetical order.\n",
    "affordable_items = []\n",
    "for item, price in items_purchase.items():\n",
    "    price = price.replace(\"$\", \"\").replace(\",\", \"\")\n",
    "    if int(price) <= int(wallet.replace(\"$\", \"\").replace(\",\", \"\")):\n",
    "        affordable_items.append(item)\n",
    "\n",
    "affordable_items.sort()\n",
    "print(affordable_items)\n",
    "\n",
    "if not affordable_items:\n",
    "    print(\"Nothing\")\n",
    "else:\n",
    "    print(affordable_items)"
   ]
  },
  {
   "cell_type": "code",
   "execution_count": 17,
   "id": "504007a3",
   "metadata": {},
   "outputs": [
    {
     "name": "stdout",
     "output_type": "stream",
     "text": [
      "['Apple', 'Bananas', 'Fan', 'Honey', 'Pan', 'Spoon']\n",
      "['Apple', 'Bananas', 'Fan', 'Honey', 'Pan', 'Spoon']\n"
     ]
    }
   ],
   "source": [
    "items_purchase = {\"Apple\": \"$4\", \"Honey\": \"$3\", \"Fan\": \"$14\", \"Bananas\": \"$4\", \"Pan\": \"$100\", \"Spoon\": \"$2\"}\n",
    "wallet = \"$100\"\n",
    "affordable_items = []\n",
    "for item, price in items_purchase.items():\n",
    "    price = price.replace(\"$\", \"\").replace(\",\", \"\")\n",
    "    if int(price) <= int(wallet.replace(\"$\", \"\").replace(\",\", \"\")):\n",
    "        affordable_items.append(item)\n",
    "\n",
    "affordable_items.sort()\n",
    "print(affordable_items)\n",
    "\n",
    "if not affordable_items:\n",
    "    print(\"Nothing\")\n",
    "else:\n",
    "    print(affordable_items)\n",
    "\n",
    "\n"
   ]
  },
  {
   "cell_type": "code",
   "execution_count": 18,
   "id": "3c83829c",
   "metadata": {},
   "outputs": [
    {
     "name": "stdout",
     "output_type": "stream",
     "text": [
      "[]\n",
      "Nothing\n"
     ]
    }
   ],
   "source": [
    "items_purchase = {\"Phone\": \"$999\", \"Speakers\": \"$300\", \"Laptop\": \"$5,000\", \"PC\": \"$1200\"}\n",
    "wallet = \"$1\"\n",
    "affordable_items = []\n",
    "for item, price in items_purchase.items():\n",
    "    price = price.replace(\"$\", \"\").replace(\",\", \"\")\n",
    "    if int(price) <= int(wallet.replace(\"$\", \"\").replace(\",\", \"\")):\n",
    "        affordable_items.append(item)\n",
    "\n",
    "affordable_items.sort()\n",
    "print(affordable_items)\n",
    "\n",
    "if not affordable_items:\n",
    "    print(\"Nothing\")\n",
    "else:\n",
    "    print(affordable_items)\n"
   ]
  }
 ],
 "metadata": {
  "kernelspec": {
   "display_name": "Python 3",
   "language": "python",
   "name": "python3"
  },
  "language_info": {
   "codemirror_mode": {
    "name": "ipython",
    "version": 3
   },
   "file_extension": ".py",
   "mimetype": "text/x-python",
   "name": "python",
   "nbconvert_exporter": "python",
   "pygments_lexer": "ipython3",
   "version": "3.11.9"
  }
 },
 "nbformat": 4,
 "nbformat_minor": 5
}
