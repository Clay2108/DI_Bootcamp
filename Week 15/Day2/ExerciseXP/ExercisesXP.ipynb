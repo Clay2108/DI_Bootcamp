{
 "cells": [
  {
   "cell_type": "code",
   "execution_count": null,
   "id": "17a6756c",
   "metadata": {},
   "outputs": [],
   "source": [
    "#Exercise 1 : What is the output ?\n",
    "num= 5<3\n",
    "print(num)\n",
    "# This code will print the result of the comparison 5 < 3, which is False.\n",
    "\n",
    "num1= 3==3\n",
    "print(num1)\n",
    "# This code will print the result of the comparison 3 == 3, which is True.\n",
    "\n",
    "num2= 3 == \"3\"\n",
    "print(num2)\n",
    "# This code will print the result of the comparison 3 == \"3\", which is False because the types are different (integer vs string).\n",
    "\n",
    "# num3 =\"3\"> 3\n",
    "# print(num3)\n",
    "# This code will print the result of the comparison \"3\" > 3, which is False because the string \"3\" is not greater than the integer 3.\n",
    "\n",
    "greet =\"Hello\" == \"Hello\"\n",
    "print(greet)\n",
    "# This code will print the result of the comparison \"Hello\" == \"Hello\", which is True."
   ]
  },
  {
   "cell_type": "code",
   "execution_count": null,
   "id": "bccae9d2",
   "metadata": {},
   "outputs": [],
   "source": [
    "#Exercise 2 : Your information\n",
    "name= \"Clayton\"\n",
    "age= 34\n",
    "shoe_size= 43\n",
    "info= \"My name is {}. I am {} years old and my shoe size is {}.\".format(name, age, shoe_size)\n",
    "info1 = f\"My name is {name}. I am {age} years old and my shoe size is {shoe_size}.\"\n",
    "print(info)\n",
    "print(info1)"
   ]
  },
  {
   "cell_type": "code",
   "execution_count": 14,
   "id": "7af05e12",
   "metadata": {},
   "outputs": [
    {
     "name": "stdout",
     "output_type": "stream",
     "text": [
      "5 is odd.\n"
     ]
    }
   ],
   "source": [
    "#Exercise 3 : Odd or Even\n",
    "#Write code that asks the user for a number and determines whether this number is odd or even.\n",
    "number = int(input(\"Please enter a number: \"))      \n",
    "if number % 2 == 0:\n",
    "    print(f\"{number} is even.\") \n",
    "else:\n",
    "    print(f\"{number} is odd.\")"
   ]
  },
  {
   "cell_type": "code",
   "execution_count": 22,
   "id": "72cd2e7a",
   "metadata": {},
   "outputs": [
    {
     "name": "stdout",
     "output_type": "stream",
     "text": [
      "You are tall enough to ride the roller coaster!\n"
     ]
    }
   ],
   "source": [
    "#Exercise 4 : Tall enough to ride a roller coaster\n",
    "height= int (input(\"Please enter your height in inches: \"))\n",
    "if height >= 57.0866:\n",
    "    print(\"You are tall enough to ride the roller coaster!\")\n",
    "else:\n",
    "    print(\"You need to grow some more inches to ride the roller coaster.\")\n"
   ]
  },
  {
   "cell_type": "code",
   "execution_count": null,
   "id": "7e952291",
   "metadata": {},
   "outputs": [
    {
     "name": "stdout",
     "output_type": "stream",
     "text": [
      "445\n"
     ]
    }
   ],
   "source": [
    "# Exercise 5 : How many characters in a sentence ?\n",
    "\n",
    "my_text = \"Lorem ipsum dolor sit amet, consectetur adipiscing elit, sed do eiusmod tempor incididunt ut labore et dolore magna aliqua. Ut enim ad minim veniam, quis nostrud exercitation ullamco laboris nisi ut aliquip ex ea commodo consequat. Duis aute irure dolor in reprehenderit in voluptate velit esse cillum dolore eu fugiat nulla pariatur. Excepteur sint occaecat cupidatat non proident, sunt in culpa qui officia deserunt mollit anim id est laborum.\"\n",
    "#Use python to find out how many characters are in the following text, use a single line of code\n",
    "print(len(my_text))"
   ]
  },
  {
   "cell_type": "code",
   "execution_count": 6,
   "id": "4f312b87",
   "metadata": {},
   "outputs": [
    {
     "name": "stdout",
     "output_type": "stream",
     "text": [
      "Sorry, your word contains the character 'A'.\n"
     ]
    }
   ],
   "source": [
    "# Exercise 6 : Longest word without a specific character#\n",
    "Longest_word = (input(\"Please enter the longest word you can think of without the character 'A': \"))\n",
    "if \"a\" not in Longest_word.lower():\n",
    "    print(\"Congratulations! You have entered a word without the character 'A'.\")\n",
    "else:\n",
    "    print(\"Sorry, your word contains the character 'A'.\")"
   ]
  },
  {
   "cell_type": "code",
   "execution_count": 8,
   "id": "c7d1e59d",
   "metadata": {},
   "outputs": [
    {
     "name": "stdout",
     "output_type": "stream",
     "text": [
      "{1, 2, 3, 4, 6, 7, 8, 9, 10}\n"
     ]
    }
   ],
   "source": [
    "#Exercise 7 : Set\n",
    "my_fav_numbers = {1, 2, 3, 4, 5}\n",
    "my_fav_numbers.add(6)\n",
    "my_fav_numbers.add(7)\n",
    "my_fav_numbers.remove(5)\n",
    "friend_fav_numbers = {8, 9, 10}\n",
    "my_fav_numbers.update(friend_fav_numbers)\n",
    "print(my_fav_numbers)"
   ]
  },
  {
   "cell_type": "code",
   "execution_count": 21,
   "id": "0bede258",
   "metadata": {},
   "outputs": [
    {
     "name": "stdout",
     "output_type": "stream",
     "text": [
      "[]\n"
     ]
    }
   ],
   "source": [
    "# Exercise 8 : List\n",
    "basket = [\"Banana\", \"Apples\", \"Oranges\", \"Blueberries\"];\n",
    "basket.remove(\"Banana\")\n",
    "basket.remove(\"Blueberries\")\n",
    "basket.append(\"Kiwi\")\n",
    "basket.insert(0, \"Apples\")\n",
    "basket.count(\"Apples\")\n",
    "basket.clear()\n",
    "print(basket)\n"
   ]
  },
  {
   "cell_type": "code",
   "execution_count": 22,
   "id": "4c3a1682",
   "metadata": {},
   "outputs": [
    {
     "name": "stdout",
     "output_type": "stream",
     "text": [
      "[1.5, 2.0, 2.5, 3.0, 3.5, 4.0, 4.5, 5.0]\n"
     ]
    }
   ],
   "source": [
    "#Exercise 9 : Floats\n",
    "#1.Recap – What is a float? What is the difference between an integer and a float?\n",
    "#A float is a data type in Python that represents a number with a decimal point.\n",
    "#The difference between an integer and a float is that an integer is a whole number without a decimal point, while a float can represent numbers with decimal points.\n",
    "\n",
    "#2. Can you think of another way to generate a sequence of floats?\n",
    "\n",
    "#Create a list containing the following sequence 1.5, 2, 2.5, 3, 3.5, 4, 4.5, 5 (don’t hard-code the sequence).\n",
    "float_list = [i * 0.5 for i in range(3, 11)]\n",
    "print(float_list)\n",
    "\n",
    "\n"
   ]
  },
  {
   "cell_type": "code",
   "execution_count": null,
   "id": "533572df",
   "metadata": {},
   "outputs": [
    {
     "name": "stdout",
     "output_type": "stream",
     "text": [
      "2\n",
      "4\n",
      "6\n",
      "8\n",
      "10\n",
      "12\n",
      "14\n",
      "16\n",
      "18\n",
      "20\n"
     ]
    }
   ],
   "source": [
    "#Exercise 10 : For loop\n",
    "#Use a for loop to print all numbers from 1 to 20, inclusive.\n",
    "# for i in range(1, 21):\n",
    "#     print(i)\n",
    "\n",
    "# Using a for loop, that loops from 1 to 20(inclusive), print out every element which has an even index.\n",
    "for i in range(1, 21):\n",
    "    if i % 2 == 0:\n",
    "        print(i)                                             "
   ]
  },
  {
   "cell_type": "code",
   "execution_count": 36,
   "id": "7bd085e8",
   "metadata": {},
   "outputs": [
    {
     "name": "stdout",
     "output_type": "stream",
     "text": [
      "Bob is not permitted to watch the movie.\n",
      "Charlie is not permitted to watch the movie.\n",
      "Final list of permitted teenagers: ['Alice', 'David']\n"
     ]
    }
   ],
   "source": [
    "#Exercise 11 : Cinemax\n",
    "\n",
    "# A movie theater charges different ticket prices depending on a person’s age.\n",
    "# if a person is under the age of 3, the ticket is free.\n",
    "# if they are between 3 and 12, the ticket is $10.\n",
    "# if they are over the age of 12, the ticket is $15.\n",
    "\n",
    "# age = int(input(\"Please enter the age of the person who wants a ticket: \"))\n",
    "# if age < 3:\n",
    "#     print(\"Ticket is free\")\n",
    "# elif 3 <= age <= 12:    \n",
    "#     print(\"Ticket is $10\")\n",
    "# elif age > 12:\n",
    "#     print(\"Ticket is $15\")\n",
    "\n",
    "\n",
    "\n",
    "# Ask a family the age of each person who wants a ticket.\n",
    "\n",
    "\n",
    "# Store the total cost of all the family’s tickets and print it out.\n",
    "# family_size = int(input(\"How many people are in your family? \"))\n",
    "# total_cost = 0      \n",
    "# for i in range(family_size):\n",
    "#     age = int(input(f\"Please enter the age of person {i + 1}: \"))\n",
    "#     if age < 3:\n",
    "#         total_cost += 0\n",
    "#     elif 3 <= age <= 12:\n",
    "#         total_cost += 10\n",
    "#     elif age > 12:\n",
    "#         total_cost += 15\n",
    "# print(f\"The total cost of all tickets is: ${total_cost}\")\n",
    "\n",
    "# A group of teenagers are coming to your movie theater and want to watch a movie that is restricted for people between the ages of 16 and 21.\n",
    "# Given a list of names, write a program that asks teenager for their age, if they are not permitted to watch the movie, remove them from the list.\n",
    "# At the end, print the final list.\n",
    "teenagers = [\"Alice\", \"Bob\", \"Charlie\", \"David\"]\n",
    "permitted_teenagers = []\n",
    "for teenager in teenagers:\n",
    "    age = int(input(f\"Please enter the age of {teenager}: \"))\n",
    "    if 16 <= age <= 21:\n",
    "        permitted_teenagers.append(teenager)\n",
    "    else:\n",
    "        print(f\"{teenager} is not permitted to watch the movie.\")\n",
    "print(\"Final list of permitted teenagers:\", permitted_teenagers)"
   ]
  },
  {
   "cell_type": "code",
   "execution_count": 46,
   "id": "6d670c4b",
   "metadata": {},
   "outputs": [
    {
     "name": "stdout",
     "output_type": "stream",
     "text": [
      "Hello World\n",
      "Hello World\n",
      "Hello World\n",
      "Hello World\n",
      "\n"
     ]
    }
   ],
   "source": [
    "#Python and Web Development : Exercise XP\n",
    "\n",
    "# Exercise 1 : Hello World\n",
    "\n",
    "# print hellow world four times one below the other in one line of code\n",
    "print(\"Hello World\\n\" * 4)\n"
   ]
  },
  {
   "cell_type": "code",
   "execution_count": 47,
   "id": "ec1688c4",
   "metadata": {},
   "outputs": [
    {
     "name": "stdout",
     "output_type": "stream",
     "text": [
      "768\n"
     ]
    }
   ],
   "source": [
    "#Exercise 2 : Some Math\n",
    "\n",
    "number =(99^3) * 8\n",
    "print(number)"
   ]
  },
  {
   "cell_type": "code",
   "execution_count": 48,
   "id": "f8c86567",
   "metadata": {},
   "outputs": [
    {
     "name": "stdout",
     "output_type": "stream",
     "text": [
      "False\n",
      "True\n",
      "False\n",
      "True\n"
     ]
    }
   ],
   "source": [
    "# Exercise 3 : What is the output ?\n",
    "num= 5<3\n",
    "print(num)\n",
    "# This code will print the result of the comparison 5 < 3, which is False.\n",
    "\n",
    "num1= 3==3\n",
    "print(num1)\n",
    "# This code will print the result of the comparison 3 == 3, which is True.\n",
    "\n",
    "num2= 3 == \"3\"\n",
    "print(num2)\n",
    "# This code will print the result of the comparison 3 == \"3\", which is False because the types are different (integer vs string).\n",
    "\n",
    "# num3 =\"3\"> 3\n",
    "# print(num3)\n",
    "# This code will print the result of the comparison \"3\" > 3, which is False because the string \"3\" is not greater than the integer 3.\n",
    "\n",
    "greet =\"Hello\" == \"Hello\"\n",
    "print(greet)\n",
    "# This code will print the result of the comparison \"Hello\" == \"Hello\", which is True.\n"
   ]
  },
  {
   "cell_type": "code",
   "execution_count": null,
   "id": "dc8b060c",
   "metadata": {},
   "outputs": [
    {
     "name": "stdout",
     "output_type": "stream",
     "text": [
      "I have a HP computer.\n"
     ]
    }
   ],
   "source": [
    "# Exercise 4 : Your computer brand\n",
    "\n",
    "computer_brand = \"HP\"\n",
    "print (f\"I have a {computer_brand} computer.\")\n"
   ]
  },
  {
   "cell_type": "code",
   "execution_count": 55,
   "id": "8911230a",
   "metadata": {},
   "outputs": [
    {
     "name": "stdout",
     "output_type": "stream",
     "text": [
      "My name is Clayton. I am 34 years old and my shoe size is 43.\n"
     ]
    }
   ],
   "source": [
    "#Exercise 5 : Your information\n",
    "\n",
    "name= \"Clayton\"\n",
    "age= 34\n",
    "shoe_size= 43\n",
    "info= \"My name is {}. I am {} years old and my shoe size is {}.\".format(name, age, shoe_size)\n",
    "print(info) "
   ]
  },
  {
   "cell_type": "code",
   "execution_count": 59,
   "id": "5b079e7b",
   "metadata": {},
   "outputs": [
    {
     "name": "stdout",
     "output_type": "stream",
     "text": [
      "Hello World\n"
     ]
    }
   ],
   "source": [
    "#Exercise 6 : A & B\n",
    "a= 10\n",
    "b=6\n",
    "if a > b:\n",
    "    print (\"Hello World\")\n",
    "else:\n",
    "    print (\"a is less than b\")"
   ]
  },
  {
   "cell_type": "code",
   "execution_count": 61,
   "id": "f34d2679",
   "metadata": {},
   "outputs": [
    {
     "name": "stdout",
     "output_type": "stream",
     "text": [
      "6 is even.\n"
     ]
    }
   ],
   "source": [
    "#Exercise 7 : Odd or Even\n",
    "\n",
    "number = int(input(\"Please enter a number: \"))\n",
    "if number % 2 == 0:\n",
    "    print(f\"{number} is even.\")     \n",
    "else:\n",
    "    print(f\"{number} is odd.\")"
   ]
  },
  {
   "cell_type": "code",
   "execution_count": 63,
   "id": "7f4977aa",
   "metadata": {},
   "outputs": [
    {
     "name": "stdout",
     "output_type": "stream",
     "text": [
      "Hi Clayton, go learn Python!\n"
     ]
    }
   ],
   "source": [
    "#Exercise 8 : What’s your name ?\n",
    "name = input(\"Please enter your name: \")\n",
    "if name == \"Clayton\":\n",
    "    print(\"Hi Clayton, go learn Python!\")\n",
    "else:\n",
    "    print(\"Hi, what is your name?\")"
   ]
  },
  {
   "cell_type": "code",
   "execution_count": 65,
   "id": "d0cdbc51",
   "metadata": {},
   "outputs": [
    {
     "name": "stdout",
     "output_type": "stream",
     "text": [
      "You need to grow some more inches to ride the roller coaster.\n"
     ]
    }
   ],
   "source": [
    "# Exercise 9 : Tall enough to ride a roller coaster\n",
    "height= int (input(\"Please enter your height in inches: \"))\n",
    "if height >= 57.0866:\n",
    "    print(\"You are tall enough to ride the roller coaster!\")\n",
    "else:\n",
    "    print(\"You need to grow some more inches to ride the roller coaster.\")"
   ]
  }
 ],
 "metadata": {
  "kernelspec": {
   "display_name": "Python 3",
   "language": "python",
   "name": "python3"
  },
  "language_info": {
   "codemirror_mode": {
    "name": "ipython",
    "version": 3
   },
   "file_extension": ".py",
   "mimetype": "text/x-python",
   "name": "python",
   "nbconvert_exporter": "python",
   "pygments_lexer": "ipython3",
   "version": "3.11.9"
  }
 },
 "nbformat": 4,
 "nbformat_minor": 5
}
