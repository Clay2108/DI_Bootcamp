{
 "cells": [
  {
   "cell_type": "code",
   "execution_count": 28,
   "id": "90510a36",
   "metadata": {},
   "outputs": [
    {
     "name": "stdout",
     "output_type": "stream",
     "text": [
      "String not long enough\n"
     ]
    }
   ],
   "source": [
    "import random\n",
    "\n",
    "user = input(\"Enter a string of 10 characters\")\n",
    "if len(user) == 10:\n",
    "    print(\"Perfect String\")\n",
    "    print(\"First character is: \" + user[0])\n",
    "    print(\"Last character is: \" + user[-1])\n",
    "    for i in range(1, len(user) + 1):\n",
    "        print(user[:i])\n",
    "    user_list = list(user)\n",
    "    random.shuffle(user_list)\n",
    "    shuffled_user = ''.join(user_list)\n",
    "    print(\"Shuffled string is: \" + shuffled_user)\n",
    "elif len(user) < 10:\n",
    "    print(\"String not long enough\")\n",
    "else:\n",
    "    print(\"String too long\")\n",
    "# Using a for loop, construct and print the string character by character. Start with the first character, then the first two characters, and so on, until the entire string is printed.\n",
    "\n"
   ]
  }
 ],
 "metadata": {
  "kernelspec": {
   "display_name": "Python 3",
   "language": "python",
   "name": "python3"
  },
  "language_info": {
   "codemirror_mode": {
    "name": "ipython",
    "version": 3
   },
   "file_extension": ".py",
   "mimetype": "text/x-python",
   "name": "python",
   "nbconvert_exporter": "python",
   "pygments_lexer": "ipython3",
   "version": "3.11.9"
  }
 },
 "nbformat": 4,
 "nbformat_minor": 5
}
