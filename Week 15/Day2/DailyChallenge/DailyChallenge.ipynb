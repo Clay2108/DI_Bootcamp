{
 "cells": [
  {
   "cell_type": "code",
   "execution_count": 2,
   "id": "52e8766b",
   "metadata": {},
   "outputs": [
    {
     "name": "stdout",
     "output_type": "stream",
     "text": [
      "The multiples of 7 are:\n",
      "7\n",
      "14\n",
      "21\n",
      "28\n",
      "35\n"
     ]
    }
   ],
   "source": [
    "# Challenge 1: Multiples of a Number\n",
    "\n",
    "#Ask the user for two inputs:\n",
    "\n",
    "# A number (integer).\n",
    "# A length (integer).\n",
    "user= int(input(\"Enter a number: \"))\n",
    "user2= int(input(\"Enter a length: \"))\n",
    "\n",
    "# Create a program that generates a list of multiples of the given number.\n",
    "\n",
    "print(\"The multiples of\", user, \"are:\")\n",
    "for i in range(1, user2 + 1):\n",
    "    print(user * i)"
   ]
  },
  {
   "cell_type": "code",
   "execution_count": 3,
   "id": "65e40ac7",
   "metadata": {},
   "outputs": [
    {
     "name": "stdout",
     "output_type": "stream",
     "text": [
      "The modified string is: clayton\n"
     ]
    }
   ],
   "source": [
    "# Challenge 2: Remove Consecutive Duplicate Letters\n",
    "\n",
    "# Ask the user for a string.\n",
    "# 2. Write a program that processes the string to remove consecutive duplicate letters.\n",
    "\n",
    "# The new string should only contain unique consecutive letters.\n",
    "# For example, “ppoeemm” should become “poem” (removes consecutive duplicates like ‘pp’, ‘ee’, and ‘mm’).\n",
    "# 3. The program should print the modified string.\n",
    "\n",
    "user_string = input (\"Enter a string:\")\n",
    "def remove_consecutive_duplicates(s):\n",
    "    result = []\n",
    "    for char in s:\n",
    "        if not result or result[-1] != char:\n",
    "            result.append(char)\n",
    "    return ''.join(result)\n",
    "\n",
    "print(\"The modified string is:\", remove_consecutive_duplicates(user_string))"
   ]
  }
 ],
 "metadata": {
  "kernelspec": {
   "display_name": "Python 3",
   "language": "python",
   "name": "python3"
  },
  "language_info": {
   "codemirror_mode": {
    "name": "ipython",
    "version": 3
   },
   "file_extension": ".py",
   "mimetype": "text/x-python",
   "name": "python",
   "nbconvert_exporter": "python",
   "pygments_lexer": "ipython3",
   "version": "3.11.9"
  }
 },
 "nbformat": 4,
 "nbformat_minor": 5
}
