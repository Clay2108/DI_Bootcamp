{
 "cells": [
  {
   "cell_type": "code",
   "execution_count": 1,
   "id": "24242caf",
   "metadata": {},
   "outputs": [
    {
     "name": "stdout",
     "output_type": "stream",
     "text": [
      "hello world\n"
     ]
    }
   ],
   "source": [
    "print('hello world')"
   ]
  },
  {
   "cell_type": "code",
   "execution_count": 2,
   "id": "9ec7f8a6",
   "metadata": {},
   "outputs": [
    {
     "name": "stdout",
     "output_type": "stream",
     "text": [
      "Tom\n"
     ]
    }
   ],
   "source": [
    "print('Tom')\n"
   ]
  },
  {
   "cell_type": "code",
   "execution_count": null,
   "id": "51b84e0f",
   "metadata": {},
   "outputs": [
    {
     "name": "stdout",
     "output_type": "stream",
     "text": [
      "Test\n"
     ]
    }
   ],
   "source": [
    "#this is a comment\n",
    "print ('Test')\n",
    "#print('Test2')\n"
   ]
  },
  {
   "cell_type": "code",
   "execution_count": 8,
   "id": "5fc68fab",
   "metadata": {},
   "outputs": [
    {
     "name": "stdout",
     "output_type": "stream",
     "text": [
      "10\n"
     ]
    }
   ],
   "source": [
    "#variable\n",
    "age=10\n",
    "print(age)"
   ]
  },
  {
   "cell_type": "code",
   "execution_count": null,
   "id": "9d192b9d",
   "metadata": {},
   "outputs": [
    {
     "name": "stdout",
     "output_type": "stream",
     "text": [
      "Tom\n",
      "tirty\n"
     ]
    }
   ],
   "source": [
    "#data type is dynamic\n",
    "name = 'Tom'\n",
    "print(name)\n",
    "\n",
    "age='tirty'\n",
    "print(age)"
   ]
  },
  {
   "cell_type": "code",
   "execution_count": null,
   "id": "de80f3c0",
   "metadata": {},
   "outputs": [],
   "source": [
    "#variable- naming convention\n",
    "name='Tom' #valid\n",
    "name1='Tom' #valid\n",
    "name_1='Tom' #valid \n",
    "# 1name='Tom' #invalid cannot start with number\n",
    "# name$1='Tom' #invalid cannot use special characters\n",
    "firstName='Tom' #valid  \n",
    "Name='Tom' #valid but not recommended -Uppercase first letter reserved for class name\n"
   ]
  },
  {
   "cell_type": "code",
   "execution_count": null,
   "id": "c74ee6ba",
   "metadata": {},
   "outputs": [],
   "source": [
    "# Data types\n",
    "#Numbers- integer, float\n",
    "#String -Str\n",
    "#boolean - bool True/False\n",
    "#Null- null\n"
   ]
  },
  {
   "cell_type": "code",
   "execution_count": null,
   "id": "d6808cdc",
   "metadata": {},
   "outputs": [],
   "source": [
    "#integer- Whole number\n",
    "total=0\n",
    "print(total)\n",
    "\n",
    "num=100\n",
    "print(num)\n",
    "\n",
    "num1= 1000005244\n",
    "print(num1)\n",
    "\n"
   ]
  },
  {
   "cell_type": "code",
   "execution_count": 11,
   "id": "b8de03f1",
   "metadata": {},
   "outputs": [
    {
     "name": "stdout",
     "output_type": "stream",
     "text": [
      "100.65\n",
      "15822.57575\n",
      "<class 'float'>\n"
     ]
    }
   ],
   "source": [
    "#Float- decimal number\n",
    "\n",
    "total=100.65\n",
    "print(total)\n",
    "\n",
    "data=15822.57575\n",
    "print(data)\n",
    "print (type(data)) #to check the data type"
   ]
  },
  {
   "cell_type": "code",
   "execution_count": 12,
   "id": "8619d4ae",
   "metadata": {},
   "outputs": [
    {
     "name": "stdout",
     "output_type": "stream",
     "text": [
      "w\n",
      "Clayton\n",
      "<class 'str'>\n"
     ]
    }
   ],
   "source": [
    "#String\n",
    "\n",
    "char='w'\n",
    "print(char)\n",
    "\n",
    "name='Clayton'\n",
    "print(name)\n",
    "print(type(name)) #to check the data type"
   ]
  },
  {
   "cell_type": "code",
   "execution_count": 13,
   "id": "a8c25788",
   "metadata": {},
   "outputs": [
    {
     "name": "stdout",
     "output_type": "stream",
     "text": [
      "True\n",
      "<class 'bool'>\n"
     ]
    }
   ],
   "source": [
    "#Boolean   \n",
    "married=True\n",
    "print(married)\n",
    "print(type(married)) #to check the data type"
   ]
  },
  {
   "cell_type": "code",
   "execution_count": 15,
   "id": "5a093e18",
   "metadata": {},
   "outputs": [
    {
     "name": "stdout",
     "output_type": "stream",
     "text": [
      "15\n",
      "5\n",
      "50\n",
      "2.0\n",
      "0\n"
     ]
    }
   ],
   "source": [
    "#Operators\n",
    "num1=10\n",
    "num2=5\n",
    "\n",
    "additon=num1+num2\n",
    "print(additon)\n",
    "\n",
    "subtraction=num1-num2\n",
    "print(subtraction)\n",
    "\n",
    "multiplication=num1*num2\n",
    "print(multiplication)\n",
    "\n",
    "division=num1/num2\n",
    "print(division)\n",
    "\n",
    "modulus=num1%num2\n",
    "print(modulus)"
   ]
  },
  {
   "cell_type": "code",
   "execution_count": null,
   "id": "d14e8e71",
   "metadata": {},
   "outputs": [
    {
     "name": "stdout",
     "output_type": "stream",
     "text": [
      "5\n"
     ]
    }
   ],
   "source": [
    "#BODMAS -Order of operation\n",
    "#BODMAS- Bracket, Order, Division, Multiplication, Addition, Subtraction\n",
    "result=3+ (4*2)-3*2       \n",
    "print(result)"
   ]
  },
  {
   "cell_type": "code",
   "execution_count": 19,
   "id": "b3d4d9eb",
   "metadata": {},
   "outputs": [
    {
     "name": "stdout",
     "output_type": "stream",
     "text": [
      "TomHanks\n",
      "Tom Hanks\n"
     ]
    }
   ],
   "source": [
    "firstName='Tom'\n",
    "lastName='Hanks'\n",
    "\n",
    "fullName=firstName+lastName\n",
    "print(fullName)\n",
    "\n",
    "fullName=firstName+' '+lastName\n",
    "print(fullName)"
   ]
  },
  {
   "cell_type": "code",
   "execution_count": 25,
   "id": "0e0137aa",
   "metadata": {},
   "outputs": [
    {
     "name": "stdout",
     "output_type": "stream",
     "text": [
      "My name is Tom and my age is 30\n",
      "Tom is 30 years old\n",
      "Tom is 30 years old\n"
     ]
    }
   ],
   "source": [
    "name='Tom'  \n",
    "age=30\n",
    "print('My name is '+name+ ' and my age is '+str(age)) \n",
    "\n",
    "print ('{} is {} years old'.format(name, age)) #string formatting\n",
    "\n",
    "print (f'{name} is {age} years old') #string formatting\n",
    "\n",
    "#print ('Age: ' str(age))\n",
    "       #string concatenation"
   ]
  },
  {
   "cell_type": "code",
   "execution_count": 26,
   "id": "3bca05d1",
   "metadata": {},
   "outputs": [
    {
     "name": "stdout",
     "output_type": "stream",
     "text": [
      "ArithmeticErrorArithmeticErrorArithmeticError\n"
     ]
    }
   ],
   "source": [
    "x='ArithmeticError'\n",
    "\n",
    "print(x*3) #string multiplication"
   ]
  },
  {
   "cell_type": "code",
   "execution_count": null,
   "id": "4468f9cc",
   "metadata": {},
   "outputs": [
    {
     "data": {
      "text/plain": [
       "True"
      ]
     },
     "execution_count": 30,
     "metadata": {},
     "output_type": "execute_result"
    }
   ],
   "source": [
    "#boolean operators\n",
    "#true =1\n",
    "#false =0\n",
    "#and = *\n",
    "#or = +\n",
    "\n",
    "True and True\n",
    "True or True\n"
   ]
  },
  {
   "cell_type": "code",
   "execution_count": 35,
   "id": "844083fd",
   "metadata": {},
   "outputs": [
    {
     "name": "stdout",
     "output_type": "stream",
     "text": [
      "You are married\n",
      "You are not married\n"
     ]
    }
   ],
   "source": [
    "#Conditions (Decision making statements)\n",
    "# if, else, elif\n",
    "\n",
    "married = True\n",
    "if married==True:   \n",
    "    print('You are married')\n",
    "\n",
    "married = False\n",
    "if married==True:   \n",
    "    print('You are married')\n",
    "else:\n",
    "    print('You are not married')\n",
    "   "
   ]
  },
  {
   "cell_type": "code",
   "execution_count": 39,
   "id": "7dd5ccec",
   "metadata": {},
   "outputs": [
    {
     "name": "stdout",
     "output_type": "stream",
     "text": [
      "It is cold\n",
      "Turning on heater \n"
     ]
    }
   ],
   "source": [
    "temperature=30\n",
    "\n",
    "if temperature>30:\n",
    "    print('It is hot')\n",
    "    print('Turning on AC ')\n",
    "else:   \n",
    "    print('It is cold')\n",
    "    print('Turning on heater ')"
   ]
  },
  {
   "cell_type": "code",
   "execution_count": 40,
   "id": "2379581e",
   "metadata": {},
   "outputs": [
    {
     "name": "stdout",
     "output_type": "stream",
     "text": [
      "It is not hot and humid\n",
      "Turning on heater \n"
     ]
    }
   ],
   "source": [
    "temp=25\n",
    "humidity=80\n",
    "\n",
    "if temp>30 and humidity>70:\n",
    "    print('It is hot and humid')\n",
    "    print('Turning on AC ')\n",
    "\n",
    "else:\n",
    "    print('It is not hot and humid')\n",
    "    print('Turning on heater ')"
   ]
  },
  {
   "cell_type": "code",
   "execution_count": 42,
   "id": "65d58551",
   "metadata": {},
   "outputs": [
    {
     "name": "stdout",
     "output_type": "stream",
     "text": [
      "You are eligible for 5% discount\n"
     ]
    }
   ],
   "source": [
    "total=8000\n",
    "\n",
    "if total>10000:\n",
    "    print('You are eligible for 10% discount')\n",
    "elif total>5000:\n",
    "    print('You are eligible for 5% discount')           \n",
    "\n",
    "elif total>2000:\n",
    "    print('You are eligible for 2% discount')   \n",
    "\n",
    "else:           \n",
    "    print('You are not eligible for discount')\n"
   ]
  },
  {
   "cell_type": "code",
   "execution_count": 49,
   "id": "d2e0b223",
   "metadata": {},
   "outputs": [
    {
     "name": "stdout",
     "output_type": "stream",
     "text": [
      "program starts\n",
      "Login failed\n",
      "program ends\n"
     ]
    }
   ],
   "source": [
    "email = 'test@test.com'\n",
    "password = 1234567\n",
    "print('program starts')\n",
    "if email == 'test@test.com' and password == 123456:\n",
    "    print('Login successful')\n",
    "else:\n",
    "    print('Login failed')\n",
    "\n",
    "print('program ends')\n",
    "#Loops"
   ]
  },
  {
   "cell_type": "code",
   "execution_count": 57,
   "id": "37cf9892",
   "metadata": {},
   "outputs": [
    {
     "name": "stdout",
     "output_type": "stream",
     "text": [
      "100.5000001\n",
      "100.5\n"
     ]
    }
   ],
   "source": [
    "#inputs and outputs \n",
    "\n",
    "total =100.5000001\n",
    "total1=100.50000000\n",
    "print(total)\n",
    "print (total1)"
   ]
  },
  {
   "cell_type": "code",
   "execution_count": 1,
   "id": "e1059430",
   "metadata": {},
   "outputs": [
    {
     "name": "stdout",
     "output_type": "stream",
     "text": [
      "Hello clayton\n"
     ]
    }
   ],
   "source": [
    "name= input('Enter your name: ')    \n",
    "print('Hello '+name)"
   ]
  }
 ],
 "metadata": {
  "kernelspec": {
   "display_name": "Python 3",
   "language": "python",
   "name": "python3"
  },
  "language_info": {
   "codemirror_mode": {
    "name": "ipython",
    "version": 3
   },
   "file_extension": ".py",
   "mimetype": "text/x-python",
   "name": "python",
   "nbconvert_exporter": "python",
   "pygments_lexer": "ipython3",
   "version": "3.11.9"
  }
 },
 "nbformat": 4,
 "nbformat_minor": 5
}
