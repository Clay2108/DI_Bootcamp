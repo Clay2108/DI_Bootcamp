{
 "cells": [
  {
   "cell_type": "code",
   "execution_count": 1,
   "id": "14a05889",
   "metadata": {},
   "outputs": [
    {
     "name": "stdout",
     "output_type": "stream",
     "text": [
      "Requirement already satisfied: numpy in c:\\users\\clayton\\appdata\\local\\packages\\pythonsoftwarefoundation.python.3.11_qbz5n2kfra8p0\\localcache\\local-packages\\python311\\site-packages (2.2.6)\n",
      "Note: you may need to restart the kernel to use updated packages.\n"
     ]
    },
    {
     "name": "stderr",
     "output_type": "stream",
     "text": [
      "\n",
      "[notice] A new release of pip is available: 24.0 -> 25.1.1\n",
      "[notice] To update, run: C:\\Users\\clayton\\AppData\\Local\\Microsoft\\WindowsApps\\PythonSoftwareFoundation.Python.3.11_qbz5n2kfra8p0\\python.exe -m pip install --upgrade pip\n"
     ]
    }
   ],
   "source": [
    "%pip install numpy\n",
    "\n",
    "import numpy as np\n",
    "import random"
   ]
  },
  {
   "cell_type": "code",
   "execution_count": 2,
   "id": "7e48c555",
   "metadata": {},
   "outputs": [],
   "source": [
    "def initialise_board(board, size=3, init_char=''):\n",
    "    for i in range(size): #rows\n",
    "        board.append([init_char]*size) #columns  ['','','']\n",
    "    print('New game board')\n",
    "            "
   ]
  },
  {
   "cell_type": "code",
   "execution_count": 3,
   "id": "3f8c6301",
   "metadata": {},
   "outputs": [],
   "source": [
    "def display_board(board):\n",
    "    board_vx= np.array(board)\n",
    "    print(board_vx)\n",
    "    print('-----------------')"
   ]
  },
  {
   "cell_type": "code",
   "execution_count": 4,
   "id": "e0125e31",
   "metadata": {},
   "outputs": [],
   "source": [
    "def register_players(logger=False):\n",
    "    # print('\\n Player 1')\n",
    "    player1 = input(\"Enter name for Player 1: \")\n",
    "\n",
    "    # print('\\n\\n Player 2')\n",
    "    player2 = input(\"Enter name for Player 2: \")\n",
    "    \n",
    "    choices= ['X', 'O']\n",
    "    player1_choice=random.choice(choices)\n",
    "    choices.remove(player1_choice)\n",
    "    player2_choice=random.choice(choices)\n",
    "    \n",
    "    player1= {\n",
    "        'name': player1,\n",
    "        'char': player1_choice\n",
    "    }\n",
    "    player2={\n",
    "        'name': player2,\n",
    "        'char': player2_choice\n",
    "    }\n",
    "\n",
    "    if logger:\n",
    "        print(f\"Player 1: {player1['name']} ({player1['char']})\")\n",
    "        print(f\"Player 2: {player2['name']} ({player2['char']})\")\n",
    "        print('-----------------')\n",
    "\n",
    "    return player1, player2"
   ]
  },
  {
   "cell_type": "code",
   "execution_count": 5,
   "id": "76562862",
   "metadata": {},
   "outputs": [],
   "source": [
    "def player_input(player, board, init_char):\n",
    "    valid=False\n",
    "\n",
    "    row_num=None\n",
    "    col_num=None\n",
    "\n",
    "    while not valid:\n",
    "        try:\n",
    "            row_num = int(input(f\"Player {player['name']}, enter the row number (1-3): \")) - 1\n",
    "            col_num = int(input(f\"Player {player['name']}, enter the column number (1-3): \")) - 1\n",
    "            \n",
    "            if 0 <= row_num < 3 and 0 <= col_num < 3:\n",
    "                if (board[row_num][col_num] == init_char):\n",
    "                    valid = True\n",
    "                    return row_num,col_num\n",
    "                else:\n",
    "                    print(f\"This cell [{row_num},{col_num}] is already occupied. Please choose another cell.\")\n",
    "            else:\n",
    "                print(\"Invalid input. Please enter numbers between 1 and 3.\")\n",
    "        except:\n",
    "            print(\"Invalid input. Please enter a valid column and row number between 1 and 3.\")\n",
    "            continue\n"
   ]
  },
  {
   "cell_type": "code",
   "execution_count": 6,
   "id": "6615bf4d",
   "metadata": {},
   "outputs": [],
   "source": [
    "def check_win(board,player,row_num, col_num, init_char, board_size):\n",
    "    char=player['char']\n",
    "    #check diagonal win combinations\n",
    "    #comb 1 [[0,0],[1,1],[2,2]]\n",
    "    #comb 2 [[0,2],[1,1],[2,0]]\n",
    "\n",
    "    if board[0][0]==char and board[1][1]==char and board [2][2]==char: #comb1\n",
    "        return \"win\"\n",
    "    \n",
    "    elif board[0][2]==char and board[1][1]==char and board [2][0]==char: #comb2\n",
    "        return \"win\"\n",
    "\n",
    "    #check vertical win\n",
    "    #comb 1 [[0,0],[1,0],[2,0]]\n",
    "    #comb 2 [[0,1],[1,1],[2,1]]\n",
    "    #comb 3 [[0,2],[1,2],[2,2]]\n",
    "\n",
    "    if board[0][0]==char and board[1][0]==char and board [2][0]==char:\n",
    "        return \"win\"\n",
    "    elif board[0][1]==char and board[1][1]==char and board [2][1]==char:\n",
    "        return \"win\"\n",
    "    elif board[0][2]==char and board[1][2]==char and board [2][2]==char:\n",
    "        return \"win\"\n",
    "\n",
    "    #check horizontal win\n",
    "    #comb 1 [[0,0],[0,1],[0,2]]\n",
    "    #comb 2 [[1,0],[1,1],[1,2]]\n",
    "    #comb 3 [[2,0],[2,1],[2,2]]\n",
    "\n",
    "    if board[0][0]==char and board[0][1]==char and board [0][2]==char:\n",
    "        return \"win\"\n",
    "    elif board[1][0]==char and board[1][1]==char and board [1][2]==char:\n",
    "        return \"win\"\n",
    "    elif board[2][0]==char and board[2][1]==char and board [2][2]==char:\n",
    "        return \"win\"\n",
    "\n",
    "    #check for draw\n",
    "    for i in range(board_size):\n",
    "        for j in range(board_size):\n",
    "            if board[i][j] == init_char:\n",
    "                return \"continue\"\n",
    "            \n",
    "    \n",
    "    return \"draw\"\n",
    "\n",
    "    #return either of win, draw, continue"
   ]
  },
  {
   "cell_type": "code",
   "execution_count": 7,
   "id": "8a0ba3fe",
   "metadata": {},
   "outputs": [],
   "source": [
    "def play():\n",
    "    # board=[['','',''],['','',''],['','','']]\n",
    "    board=[]\n",
    "    board_size = 3\n",
    "    init_char='_'\n",
    "    initialise_board(board, size=board_size, init_char=init_char)\n",
    "    display_board(board)\n",
    "    player1, player2= register_players(logger=True)\n",
    "    players= [player1, player2]\n",
    "\n",
    "    # game loop\n",
    "    game_over=False\n",
    "    while game_over == False:\n",
    "        for player in players:\n",
    "            row_num,col_num=player_input(player,board, init_char)\n",
    "            board[row_num][col_num]=player['char']\n",
    "            display_board(board)\n",
    "\n",
    "            result=check_win(board,player,row_num,col_num, init_char, board_size)\n",
    "            if result == \"win\":\n",
    "                print(f\"Congratulations {player['name']}! You have won the game!\")\n",
    "                game_over = True\n",
    "                break\n",
    "            elif result == \"draw\":\n",
    "                print(\"This game is a draw!\")\n",
    "                game_over = True\n",
    "                break\n",
    "\n"
   ]
  },
  {
   "cell_type": "code",
   "execution_count": 8,
   "id": "bb9b9648",
   "metadata": {},
   "outputs": [
    {
     "name": "stdout",
     "output_type": "stream",
     "text": [
      "New game board\n",
      "[['_' '_' '_']\n",
      " ['_' '_' '_']\n",
      " ['_' '_' '_']]\n",
      "-----------------\n",
      "Player 1: Clayton (X)\n",
      "Player 2: Elo (O)\n",
      "-----------------\n",
      "[['X' '_' '_']\n",
      " ['_' '_' '_']\n",
      " ['_' '_' '_']]\n",
      "-----------------\n",
      "[['X' '_' '_']\n",
      " ['_' '_' '_']\n",
      " ['O' '_' '_']]\n",
      "-----------------\n",
      "[['X' '_' 'X']\n",
      " ['_' '_' '_']\n",
      " ['O' '_' '_']]\n",
      "-----------------\n",
      "[['X' '_' 'X']\n",
      " ['_' '_' '_']\n",
      " ['O' 'O' '_']]\n",
      "-----------------\n",
      "[['X' 'X' 'X']\n",
      " ['_' '_' '_']\n",
      " ['O' 'O' '_']]\n",
      "-----------------\n",
      "Congratulations Clayton! You have won the game!\n"
     ]
    }
   ],
   "source": [
    "#main program\n",
    "play()"
   ]
  }
 ],
 "metadata": {
  "kernelspec": {
   "display_name": "Python 3",
   "language": "python",
   "name": "python3"
  },
  "language_info": {
   "codemirror_mode": {
    "name": "ipython",
    "version": 3
   },
   "file_extension": ".py",
   "mimetype": "text/x-python",
   "name": "python",
   "nbconvert_exporter": "python",
   "pygments_lexer": "ipython3",
   "version": "3.11.9"
  }
 },
 "nbformat": 4,
 "nbformat_minor": 5
}
