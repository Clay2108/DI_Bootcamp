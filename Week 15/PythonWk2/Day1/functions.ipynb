{
 "cells": [
  {
   "cell_type": "code",
   "execution_count": null,
   "id": "30b84942",
   "metadata": {},
   "outputs": [],
   "source": [
    "# function definition\n",
    "def greet():\n",
    "    print(\"Hello\")\n",
    "    print(\"World\")"
   ]
  },
  {
   "cell_type": "code",
   "execution_count": null,
   "id": "119c9ef4",
   "metadata": {},
   "outputs": [
    {
     "name": "stdout",
     "output_type": "stream",
     "text": [
      "Hello\n",
      "World\n"
     ]
    }
   ],
   "source": [
    "greet() #function call"
   ]
  },
  {
   "cell_type": "code",
   "execution_count": 9,
   "id": "be4d1ae2",
   "metadata": {},
   "outputs": [
    {
     "name": "stdout",
     "output_type": "stream",
     "text": [
      "Hi\n",
      "There\n",
      "3\n"
     ]
    }
   ],
   "source": [
    "# function  definition\n",
    "def sayHi():\n",
    "    print(\"Hi\")\n",
    "    print(\"There\")\n",
    "\n",
    "# main program\n",
    "a=1\n",
    "b=2\n",
    "c=a+b\n",
    "sayHi()\n",
    "print(c)     \n"
   ]
  },
  {
   "cell_type": "code",
   "execution_count": 21,
   "id": "973c074e",
   "metadata": {},
   "outputs": [
    {
     "name": "stdout",
     "output_type": "stream",
     "text": [
      "Program Starts\n",
      "1\n"
     ]
    },
    {
     "ename": "NameError",
     "evalue": "name 'p' is not defined",
     "output_type": "error",
     "traceback": [
      "\u001b[31m---------------------------------------------------------------------------\u001b[39m",
      "\u001b[31mNameError\u001b[39m                                 Traceback (most recent call last)",
      "\u001b[36mCell\u001b[39m\u001b[36m \u001b[39m\u001b[32mIn[21]\u001b[39m\u001b[32m, line 7\u001b[39m\n\u001b[32m      5\u001b[39m \u001b[38;5;28mprint\u001b[39m(\u001b[33m'\u001b[39m\u001b[33mProgram Starts\u001b[39m\u001b[33m'\u001b[39m)\n\u001b[32m      6\u001b[39m test()\n\u001b[32m----> \u001b[39m\u001b[32m7\u001b[39m \u001b[38;5;28mprint\u001b[39m(\u001b[33m'\u001b[39m\u001b[33mValue of x is\u001b[39m\u001b[33m'\u001b[39m, \u001b[43mp\u001b[49m)   \n\u001b[32m      8\u001b[39m \u001b[38;5;28mprint\u001b[39m(\u001b[33m'\u001b[39m\u001b[33mProgram Ends\u001b[39m\u001b[33m'\u001b[39m)\n",
      "\u001b[31mNameError\u001b[39m: name 'p' is not defined"
     ]
    }
   ],
   "source": [
    "def test():\n",
    "     p=1 #local variable\n",
    "     print(p)\n",
    "\n",
    "print('Program Starts')\n",
    "test()\n",
    "print('Value of x is', p)   \n",
    "print('Program Ends')"
   ]
  },
  {
   "cell_type": "code",
   "execution_count": 29,
   "id": "e89737e3",
   "metadata": {},
   "outputs": [
    {
     "name": "stdout",
     "output_type": "stream",
     "text": [
      "Value of x is inside 1\n",
      "Value of x is top 2\n",
      "Value of x is outside 1\n"
     ]
    }
   ],
   "source": [
    "def test(x):\n",
    "    x=2\n",
    "    print('Value of x is top', x)\n",
    "\n",
    "x=1\n",
    "print('Value of x is inside', x)\n",
    "test(x)\n",
    "print('Value of x is outside', x)"
   ]
  },
  {
   "cell_type": "code",
   "execution_count": 1,
   "id": "606496db",
   "metadata": {},
   "outputs": [
    {
     "name": "stdout",
     "output_type": "stream",
     "text": [
      "main program starts\n",
      "test function\n",
      "test2 function\n",
      "test function\n",
      "main program starts\n"
     ]
    }
   ],
   "source": [
    "#function definitions\n",
    "def test():\n",
    "    print('test function')\n",
    "    \n",
    "def test2():\n",
    "    print('test2 function')\n",
    "\n",
    "#main program\n",
    "\n",
    "if __name__== '__main__': #check if the script is being run directly\n",
    "    print('main program starts')\n",
    "    test()\n",
    "    test2()\n",
    "    test()\n",
    "    print('main program starts')"
   ]
  },
  {
   "cell_type": "code",
   "execution_count": 2,
   "id": "e5911baf",
   "metadata": {},
   "outputs": [
    {
     "name": "stdout",
     "output_type": "stream",
     "text": [
      "hi\n",
      "3\n"
     ]
    }
   ],
   "source": [
    "#function definitions\n",
    "def sayHi(): #function definition\n",
    "    print('hi')\n",
    "\n",
    "\n",
    "#main program\n",
    "a=1\n",
    "b=2\n",
    "c=a+b\n",
    "sayHi() #function call\n",
    "print(c)"
   ]
  },
  {
   "cell_type": "code",
   "execution_count": 3,
   "id": "97aa2672",
   "metadata": {},
   "outputs": [
    {
     "name": "stdout",
     "output_type": "stream",
     "text": [
      "Program starts\n",
      "1\n",
      "10\n",
      "Program ends\n"
     ]
    }
   ],
   "source": [
    "def test():\n",
    "    ax=1 #local variable\n",
    "    print(ax)\n",
    "    print(dx)\n",
    "\n",
    "\n",
    "#main program\n",
    "dx=10 #global variable\n",
    "print('Program starts')\n",
    "test()\n",
    "# print('Value of x is ', ax)\n",
    "print('Program ends')"
   ]
  },
  {
   "cell_type": "code",
   "execution_count": null,
   "id": "1964a6fc",
   "metadata": {},
   "outputs": [],
   "source": [
    "def average(num1,num2): #num1 and num2 are parameters\n",
    "    sum=num1+num2\n",
    "    avg=sum/2\n",
    "    print(avg)\n",
    "\n",
    "#main program\n",
    "average(10,20) #10 and 20 arguments"
   ]
  },
  {
   "cell_type": "code",
   "execution_count": 4,
   "id": "872b2808",
   "metadata": {},
   "outputs": [
    {
     "name": "stdout",
     "output_type": "stream",
     "text": [
      "Name: John Doe\n",
      "Address: 123 Main St\n",
      "Age: 0\n",
      "Nationality: Mauritian\n",
      "\n",
      "Name: Jane Doe\n",
      "Address: Ebene park\n",
      "Age: 0\n",
      "Nationality: Mauritian\n",
      "\n",
      "Name: Jack Sparrow\n",
      "Address: Port Louis\n",
      "Age: 0\n",
      "Nationality: Mauritian\n",
      "\n",
      "Name: Harry Potter\n",
      "Address: Curepipe\n",
      "Age: 0\n",
      "Nationality: Mauritian\n",
      "\n",
      "Name: Hermione Granger\n",
      "Address: Rose Hill\n",
      "Age: 20\n",
      "Nationality: Mauritian-British\n",
      "\n"
     ]
    }
   ],
   "source": [
    "def register(name, address, age, nationality):\n",
    "    print('Name:', name)\n",
    "    print('Address:', address)\n",
    "    print('Age:', age)\n",
    "    print('Nationality:',nationality)\n",
    "    print('')\n",
    "\n",
    "\n",
    "#main program\n",
    "register('John Doe', '123 Main St', 0, 'Mauritian')\n",
    "register('Jane Doe', 'Ebene park', 0, 'Mauritian')\n",
    "register('Jack Sparrow', 'Port Louis', 0, 'Mauritian')\n",
    "register('Harry Potter', 'Curepipe', 0, 'Mauritian')\n",
    "register('Hermione Granger', 'Rose Hill', 20, 'Mauritian-British')"
   ]
  },
  {
   "cell_type": "code",
   "execution_count": 5,
   "id": "f66f2ea7",
   "metadata": {},
   "outputs": [
    {
     "ename": "TypeError",
     "evalue": "test() missing 2 required positional arguments: 'c' and 'd'",
     "output_type": "error",
     "traceback": [
      "\u001b[31m---------------------------------------------------------------------------\u001b[39m",
      "\u001b[31mTypeError\u001b[39m                                 Traceback (most recent call last)",
      "\u001b[36mCell\u001b[39m\u001b[36m \u001b[39m\u001b[32mIn[5]\u001b[39m\u001b[32m, line 7\u001b[39m\n\u001b[32m      4\u001b[39m     \u001b[38;5;28mprint\u001b[39m(c)\n\u001b[32m      5\u001b[39m     \u001b[38;5;28mprint\u001b[39m(d)\n\u001b[32m----> \u001b[39m\u001b[32m7\u001b[39m \u001b[43mtest\u001b[49m\u001b[43m(\u001b[49m\u001b[43ma\u001b[49m\u001b[43m,\u001b[49m\u001b[43mb\u001b[49m\u001b[43m)\u001b[49m\n",
      "\u001b[31mTypeError\u001b[39m: test() missing 2 required positional arguments: 'c' and 'd'"
     ]
    }
   ],
   "source": [
    "def test(a,b,c,d):\n",
    "    print(a)\n",
    "    print(b)\n",
    "    print(c)\n",
    "    print(d)\n",
    "\n",
    "test(a,b)"
   ]
  },
  {
   "cell_type": "code",
   "execution_count": null,
   "id": "f33f1af3",
   "metadata": {},
   "outputs": [],
   "source": [
    "def register(name, address, age=0, nationality=\"Mauritian\"): #default parameters\n",
    "    print('Name:', name)\n",
    "    print('Address:', address)\n",
    "    print('Age:', age)\n",
    "    print('Nationality:',nationality)\n",
    "    print('')\n",
    "\n",
    "\n",
    "#main program\n",
    "register('John Doe', '123 Main St')\n",
    "register('Jane Doe', 'Ebene park')\n",
    "register('Jack Sparrow', 'Port Louis')\n",
    "register('Harry Potter', 'Curepipe')\n",
    "register('Hermione Granger', 'Rose Hill', 20, 'Mauritian-British')"
   ]
  },
  {
   "cell_type": "code",
   "execution_count": 6,
   "id": "ce0ca05e",
   "metadata": {},
   "outputs": [
    {
     "name": "stdout",
     "output_type": "stream",
     "text": [
      "15.0\n",
      "30.0\n"
     ]
    }
   ],
   "source": [
    "def average(x,y):\n",
    "    sum=x+y\n",
    "    avg=sum/2\n",
    "    print(avg)\n",
    "\n",
    "average(10,20)\n",
    "\n",
    "a=20\n",
    "b=40\n",
    "\n",
    "average(a,b)"
   ]
  },
  {
   "cell_type": "code",
   "execution_count": 7,
   "id": "0e9012b8",
   "metadata": {},
   "outputs": [
    {
     "name": "stdout",
     "output_type": "stream",
     "text": [
      "Name: John Doe\n",
      "Address: 123 Main St\n",
      "Age: 20\n",
      "Nationality: Franco-Mauritien\n",
      "\n",
      "Name: John Doe\n",
      "Address: 123 Main St\n",
      "Age: 20\n",
      "Nationality: Mauritian\n",
      "\n"
     ]
    }
   ],
   "source": [
    "def register(name, address, age=0, nationality=\"Mauritian\"): \n",
    "    print('Name:', name)\n",
    "    print('Address:', address)\n",
    "    print('Age:', age)\n",
    "    print('Nationality:',nationality)\n",
    "    print('')\n",
    "\n",
    "\n",
    "register('John Doe', '123 Main St', 20, 'Franco-Mauritien')\n",
    "\n",
    "\n",
    "register(nationality='Mauritian', address='123 Main St', age=20, name='John Doe') #keyword arguments"
   ]
  },
  {
   "cell_type": "code",
   "execution_count": 8,
   "id": "9b2afd38",
   "metadata": {},
   "outputs": [
    {
     "name": "stdout",
     "output_type": "stream",
     "text": [
      "Sum: 30\n",
      "Average: 15.0\n"
     ]
    }
   ],
   "source": [
    "def average(num1,num2):\n",
    "    sum=num1+num2\n",
    "    avg=sum/2\n",
    "    return sum, avg #return 2 values\n",
    "\n",
    "\n",
    "#main program\n",
    "sum, avg=average(10,20) #unpacking\n",
    "print('Sum:', sum)\n",
    "print('Average:', avg)"
   ]
  }
 ],
 "metadata": {
  "kernelspec": {
   "display_name": "Python 3",
   "language": "python",
   "name": "python3"
  },
  "language_info": {
   "codemirror_mode": {
    "name": "ipython",
    "version": 3
   },
   "file_extension": ".py",
   "mimetype": "text/x-python",
   "name": "python",
   "nbconvert_exporter": "python",
   "pygments_lexer": "ipython3",
   "version": "3.11.9"
  }
 },
 "nbformat": 4,
 "nbformat_minor": 5
}
