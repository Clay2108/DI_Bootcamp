{
 "cells": [
  {
   "cell_type": "code",
   "execution_count": 22,
   "id": "50b4507c",
   "metadata": {},
   "outputs": [
    {
     "name": "stdout",
     "output_type": "stream",
     "text": [
      "I am learning about functions in Python at Developers Institute.\n"
     ]
    }
   ],
   "source": [
    "# Exercise 1 : What are you learning ?\n",
    "\n",
    "def display_message():\n",
    "\tprint(\"I am learning about functions in Python at Developers Institute.\")\n",
    "display_message()\n"
   ]
  },
  {
   "cell_type": "code",
   "execution_count": 14,
   "id": "0a9a20be",
   "metadata": {},
   "outputs": [
    {
     "name": "stdout",
     "output_type": "stream",
     "text": [
      "One of my favorite books is Atomic Habits.\n"
     ]
    }
   ],
   "source": [
    "# Exercise 2: What’s your favorite book ?\n",
    "def favorite_book(title):\n",
    "    print(f\"One of my favorite books is {title}.\")\n",
    "\n",
    "favorite_book(\"Atomic Habits\")\n",
    "\n"
   ]
  },
  {
   "cell_type": "code",
   "execution_count": 24,
   "id": "54f4f74f",
   "metadata": {},
   "outputs": [
    {
     "name": "stdout",
     "output_type": "stream",
     "text": [
      "New York is in USA.\n"
     ]
    }
   ],
   "source": [
    "# Exercise 3 : Some Geography\n",
    "\n",
    "def describe_city(city, country=\"USA\"):\n",
    "    print(f\"{city} is in {country}.\")\n",
    "describe_city(\"New York\")"
   ]
  },
  {
   "cell_type": "code",
   "execution_count": 36,
   "id": "2317d5a5",
   "metadata": {},
   "outputs": [
    {
     "name": "stdout",
     "output_type": "stream",
     "text": [
      "Your number: 55, Random number: 55\n",
      "Success! The numbers match.\n"
     ]
    }
   ],
   "source": [
    "# Exercise 4 : Random\n",
    "\n",
    "# Create a function that accepts a number between 1 and 100 and generates another number randomly between 1 and 100.\n",
    "# Compare the two numbers, if it’s the same number, display a success message, otherwise show a fail message and display both numbers.\n",
    "\n",
    "import random\n",
    "def compare_numbers(user_number):\n",
    "    if 1 <= user_number <= 100:\n",
    "        random_number = random.randint(1, 100)\n",
    "        print(f\"Your number: {user_number}, Random number: {random_number}\")\n",
    "        if user_number == random_number:\n",
    "            print(\"Success! The numbers match.\")\n",
    "        else:\n",
    "            print(\"Fail! The numbers do not match.\")\n",
    "    else:\n",
    "        print(\"Please enter a number between 1 and 100.\")\n",
    "\n",
    "compare_numbers(55)\n",
    "\n",
    "\n",
    "\n",
    "\n",
    "\n"
   ]
  },
  {
   "cell_type": "code",
   "execution_count": 41,
   "id": "5bb83e97",
   "metadata": {},
   "outputs": [
    {
     "name": "stdout",
     "output_type": "stream",
     "text": [
      "The shirt size is 'Large' and the message is 'I Play Basketball'.\n",
      "The shirt size is 'Medium' and the message is 'I Love Python'.\n",
      "The shirt size is 'Small' and the message is 'I am a Developer'.\n",
      "The shirt size is 'Extra Large' and the message is 'Coding is Fun'.\n"
     ]
    }
   ],
   "source": [
    "# Exercise 5 : Let’s create some personalized shirts !\n",
    "def make_shirt(size=\"Large\", message= \"I Play Basketball\"):\n",
    "    print(f\"The shirt size is '{size}' and the message is '{message}'.\")\n",
    "          \n",
    "make_shirt()\n",
    "make_shirt(\"Medium\", \"I Love Python\")\n",
    "make_shirt(\"Small\", \"I am a Developer\")\n",
    "\n",
    "# Make a shirt of any size with a different message.\n",
    "make_shirt(\"Extra Large\", \"Coding is Fun\")\n"
   ]
  },
  {
   "cell_type": "code",
   "execution_count": 49,
   "id": "a11d3daf",
   "metadata": {},
   "outputs": [
    {
     "name": "stdout",
     "output_type": "stream",
     "text": [
      "Harry Houdini\n",
      "David Blaine\n",
      "Criss Angel\n",
      "Harry Houdini the Great\n",
      "David Blaine the Great\n",
      "Criss Angel the Great\n"
     ]
    }
   ],
   "source": [
    "# Exercise 6 : Magicians …\n",
    "magician_names = ['Harry Houdini', 'David Blaine', 'Criss Angel' ]\n",
    "def show_magicians(magicians):\n",
    "    for magician in magicians:\n",
    "        print(magician)\n",
    "def make_great(magicians):\n",
    "    for i in range(len(magicians)):\n",
    "        magicians[i] += \" the Great\"\n",
    "    return magicians   \n",
    "show_magicians(magician_names)\n",
    "magician_names = make_great(magician_names)\n",
    "show_magicians(magician_names)\n"
   ]
  }
 ],
 "metadata": {
  "kernelspec": {
   "display_name": "Python 3",
   "language": "python",
   "name": "python3"
  },
  "language_info": {
   "codemirror_mode": {
    "name": "ipython",
    "version": 3
   },
   "file_extension": ".py",
   "mimetype": "text/x-python",
   "name": "python",
   "nbconvert_exporter": "python",
   "pygments_lexer": "ipython3",
   "version": "3.11.9"
  }
 },
 "nbformat": 4,
 "nbformat_minor": 5
}
