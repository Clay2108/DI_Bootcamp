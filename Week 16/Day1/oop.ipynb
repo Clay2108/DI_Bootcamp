{
 "cells": [
  {
   "cell_type": "code",
   "execution_count": 1,
   "id": "7a7ba876",
   "metadata": {},
   "outputs": [
    {
     "name": "stdout",
     "output_type": "stream",
     "text": [
      "<class 'int'>\n"
     ]
    }
   ],
   "source": [
    "i=17\n",
    "\n",
    "print(type(i))"
   ]
  },
  {
   "cell_type": "code",
   "execution_count": 21,
   "id": "3867d583",
   "metadata": {},
   "outputs": [
    {
     "ename": "AttributeError",
     "evalue": "'object' object has no attribute 'name'",
     "output_type": "error",
     "traceback": [
      "\u001b[0;31m---------------------------------------------------------------------------\u001b[0m",
      "\u001b[0;31mAttributeError\u001b[0m                            Traceback (most recent call last)",
      "Cell \u001b[0;32mIn[21], line 3\u001b[0m\n\u001b[1;32m      1\u001b[0m test\u001b[38;5;241m=\u001b[39m\u001b[38;5;28mobject\u001b[39m()\n\u001b[0;32m----> 3\u001b[0m \u001b[43mtest\u001b[49m\u001b[38;5;241;43m.\u001b[39;49m\u001b[43mname\u001b[49m\u001b[38;5;241m=\u001b[39m\u001b[38;5;124m\"\u001b[39m\u001b[38;5;124mtest\u001b[39m\u001b[38;5;124m\"\u001b[39m\n\u001b[1;32m      4\u001b[0m \u001b[38;5;28mprint\u001b[39m(test\u001b[38;5;241m.\u001b[39mname)\n",
      "\u001b[0;31mAttributeError\u001b[0m: 'object' object has no attribute 'name'"
     ]
    }
   ],
   "source": [
    "test=object()\n",
    "\n",
    "test.name=\"test\"\n",
    "print(test.name)"
   ]
  },
  {
   "cell_type": "code",
   "execution_count": 9,
   "id": "276bd5a6",
   "metadata": {},
   "outputs": [],
   "source": [
    "class Book:\n",
    "    def __init__(self,title, author, num_pages, price, isbn):\n",
    "        self.title= title\n",
    "        self.author= author\n",
    "        self.num_pages= num_pages\n",
    "        self.price= price\n",
    "        self.isbn= isbn\n",
    "\n",
    "    def info(self):\n",
    "        print(f\"Title: {self.title}, Author: {self.author}, Pages: {self.num_pages}, Price: ${self.price}, ISBN: {self.isbn}\")\n"
   ]
  },
  {
   "cell_type": "code",
   "execution_count": 10,
   "id": "bd3cbe64",
   "metadata": {},
   "outputs": [
    {
     "name": "stdout",
     "output_type": "stream",
     "text": [
      "Title: Harry Potter and the Philosophers Stone, Author: J.K. Rowling, Pages: 223, Price: $800, ISBN: 978-0747532699\n"
     ]
    }
   ],
   "source": [
    "hp1=Book('Harry Potter and the Philosophers Stone', 'J.K. Rowling', 223, 800, '978-0747532699') #create an object called hp1\n",
    "\n",
    "hp1.info() #call the info method on the hp1 object\n"
   ]
  },
  {
   "cell_type": "code",
   "execution_count": null,
   "id": "c75374b2",
   "metadata": {},
   "outputs": [
    {
     "name": "stdout",
     "output_type": "stream",
     "text": [
      "My dog's name is Toby, age is 5, and breed is Labrador.\n"
     ]
    }
   ],
   "source": [
    "class Dog:\n",
    "    pass\n",
    "\n",
    "\n",
    "\n",
    "#main program\n",
    "mydog=Dog() # create an object of the Dog class\n",
    "\n",
    "mydog.name='Rex' # add an attribute called name to the mydog object\n",
    "mydog.age=5\n",
    "mydog.breed='Labrador' \n",
    "\n",
    "\n",
    "mydog.name='Toby'\n",
    "\n",
    "print(f\"My dog's name is {mydog.name}, age is {mydog.age}, and breed is {mydog.breed}.\") # print the attributes of mydog object"
   ]
  },
  {
   "cell_type": "code",
   "execution_count": 2,
   "id": "a6f5bc0a",
   "metadata": {},
   "outputs": [
    {
     "name": "stdout",
     "output_type": "stream",
     "text": [
      "My dog's name is Toby, age is 5, and breed is Labrador.\n",
      "My dog's name is Toby, age is 6, and breed is Labrador.\n",
      "My dog's name is Toby, age is 6, breed is Labrador, and date of birth is 2018-01-01.\n"
     ]
    }
   ],
   "source": [
    "class Dog:\n",
    "    def __init__(self,name,age, breed):\n",
    "        self.name=name\n",
    "        self.age=age\n",
    "        self.breed=breed\n",
    "    \n",
    "#main program\n",
    "\n",
    "mydoggo2=Dog('Toby', 5, 'Labrador') # create another object of the Dog class with attributes\n",
    "\n",
    "print(f\"My dog's name is {mydoggo2.name}, age is {mydoggo2.age}, and breed is {mydoggo2.breed}.\") # print the attributes of mydoggo2 object\n",
    "\n",
    "\n",
    "mydoggo2.age=6 # change the age attribute of mydoggo2 object\n",
    "print(f\"My dog's name is {mydoggo2.name}, age is {mydoggo2.age}, and breed is {mydoggo2.breed}.\") \n",
    "# print the updated attributes of mydoggo2 object\n",
    "\n",
    "mydoggo2.dob='2018-01-01'  # add a new attribute called dob to the mydoggo2 object\n",
    "\n",
    "print(f\"My dog's name is {mydoggo2.name}, age is {mydoggo2.age}, breed is {mydoggo2.breed}, and date of birth is {mydoggo2.dob}.\")"
   ]
  },
  {
   "cell_type": "code",
   "execution_count": null,
   "id": "32616f9a",
   "metadata": {},
   "outputs": [
    {
     "name": "stdout",
     "output_type": "stream",
     "text": [
      "Toby says Woof!\n",
      "Bobo says Woof!\n"
     ]
    }
   ],
   "source": [
    "class Dog:\n",
    "    def __init__(self,name,age, breed):\n",
    "        self.name=name\n",
    "        self.age=age\n",
    "        self.breed=breed\n",
    "\n",
    "    def bark(self):\n",
    "        print(f\"{self.name} says Woof!\")\n",
    "\n",
    "toby=Dog('Toby', 5, 'Labrador') # create an object of the Dog class\n",
    "bobo=Dog('Bobo', 3, 'Beagle') # create another object of the Dog class\n",
    "\n",
    "toby.bark() # call the bark method on the toby object\n",
    "bobo.bark() # call the bark method on the bobo object"
   ]
  },
  {
   "cell_type": "code",
   "execution_count": null,
   "id": "4d4cbe53",
   "metadata": {},
   "outputs": [
    {
     "name": "stdout",
     "output_type": "stream",
     "text": [
      "Toby says Woof!\n",
      "Bobo says Woof!\n",
      "Toby is playing with Bobo.\n"
     ]
    }
   ],
   "source": [
    "class Dog:\n",
    "    def __init__(self,name,age, breed):\n",
    "        self.name=name\n",
    "        self.age=age\n",
    "        self.breed=breed\n",
    "\n",
    "    def bark(self):\n",
    "        print(f\"{self.name} says Woof!\")\n",
    "\n",
    "    def play(self, other_dog): # method to play/interact with another dog\n",
    "        print(f\"{self.name} is playing with {other_dog.name}.\")\n",
    "\n",
    "toby=Dog('Toby', 5, 'Labrador') \n",
    "bobo=Dog('Bobo', 3, 'Beagle')\n",
    "\n",
    "toby.bark() # call the bark method on the toby object\n",
    "bobo.bark() # call the bark method on the bobo object\n",
    "\n",
    "\n",
    "toby.play(bobo)"
   ]
  },
  {
   "cell_type": "code",
   "execution_count": null,
   "id": "1c55fca8",
   "metadata": {},
   "outputs": [],
   "source": []
  }
 ],
 "metadata": {
  "kernelspec": {
   "display_name": "Python 3",
   "language": "python",
   "name": "python3"
  },
  "language_info": {
   "codemirror_mode": {
    "name": "ipython",
    "version": 3
   },
   "file_extension": ".py",
   "mimetype": "text/x-python",
   "name": "python",
   "nbconvert_exporter": "python",
   "pygments_lexer": "ipython3",
   "version": "3.11.9"
  }
 },
 "nbformat": 4,
 "nbformat_minor": 5
}
