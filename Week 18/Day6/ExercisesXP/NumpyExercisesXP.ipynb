{
 "cells": [
  {
   "cell_type": "code",
   "execution_count": 3,
   "id": "84238cf7",
   "metadata": {},
   "outputs": [],
   "source": [
    "# 1\n",
    "import numpy as np\n"
   ]
  },
  {
   "cell_type": "code",
   "execution_count": 7,
   "id": "77092388",
   "metadata": {},
   "outputs": [
    {
     "name": "stdout",
     "output_type": "stream",
     "text": [
      "[0. 0. 0. 0. 0. 0. 0. 0. 0. 0.]\n"
     ]
    }
   ],
   "source": [
    "# 2\n",
    "vector = np.zeros(10)\n",
    "print(vector) "
   ]
  },
  {
   "cell_type": "code",
   "execution_count": 11,
   "id": "e50fa851",
   "metadata": {},
   "outputs": [
    {
     "name": "stdout",
     "output_type": "stream",
     "text": [
      "[ 1  2  3  4  5  6  7  8  9 10]\n",
      "Memory size of the array: 80 of type float64\n"
     ]
    }
   ],
   "source": [
    "# 3\n",
    "array = np.arange(1, 11)\n",
    "print(array)\n",
    "memory_size= array.size * array.itemsize\n",
    "print(f\"Memory size of the array: {memory_size} of type float64\")"
   ]
  },
  {
   "cell_type": "code",
   "execution_count": 12,
   "id": "ec70f7e5",
   "metadata": {},
   "outputs": [
    {
     "name": "stdout",
     "output_type": "stream",
     "text": [
      "Help on ufunc in module numpy:\n",
      "\n",
      "add = <ufunc 'add'>\n",
      "    add(x1, x2, /, out=None, *, where=True, casting='same_kind', order='K', dtype=None, subok=True[, signature])\n",
      "    \n",
      "    Add arguments element-wise.\n",
      "    \n",
      "    Parameters\n",
      "    ----------\n",
      "    x1, x2 : array_like\n",
      "        The arrays to be added.\n",
      "        If ``x1.shape != x2.shape``, they must be broadcastable to a common\n",
      "        shape (which becomes the shape of the output).\n",
      "    out : ndarray, None, or tuple of ndarray and None, optional\n",
      "        A location into which the result is stored. If provided, it must have\n",
      "        a shape that the inputs broadcast to. If not provided or None,\n",
      "        a freshly-allocated array is returned. A tuple (possible only as a\n",
      "        keyword argument) must have length equal to the number of outputs.\n",
      "    where : array_like, optional\n",
      "        This condition is broadcast over the input. At locations where the\n",
      "        condition is True, the `out` array will be set to the ufunc result.\n",
      "        Elsewhere, the `out` array will retain its original value.\n",
      "        Note that if an uninitialized `out` array is created via the default\n",
      "        ``out=None``, locations within it where the condition is False will\n",
      "        remain uninitialized.\n",
      "    **kwargs\n",
      "        For other keyword-only arguments, see the\n",
      "        :ref:`ufunc docs <ufuncs.kwargs>`.\n",
      "    \n",
      "    Returns\n",
      "    -------\n",
      "    add : ndarray or scalar\n",
      "        The sum of `x1` and `x2`, element-wise.\n",
      "        This is a scalar if both `x1` and `x2` are scalars.\n",
      "    \n",
      "    Notes\n",
      "    -----\n",
      "    Equivalent to `x1` + `x2` in terms of array broadcasting.\n",
      "    \n",
      "    Examples\n",
      "    --------\n",
      "    >>> import numpy as np\n",
      "    >>> np.add(1.0, 4.0)\n",
      "    5.0\n",
      "    >>> x1 = np.arange(9.0).reshape((3, 3))\n",
      "    >>> x2 = np.arange(3.0)\n",
      "    >>> np.add(x1, x2)\n",
      "    array([[  0.,   2.,   4.],\n",
      "           [  3.,   5.,   7.],\n",
      "           [  6.,   8.,  10.]])\n",
      "    \n",
      "    The ``+`` operator can be used as a shorthand for ``np.add`` on ndarrays.\n",
      "    \n",
      "    >>> x1 = np.arange(9.0).reshape((3, 3))\n",
      "    >>> x2 = np.arange(3.0)\n",
      "    >>> x1 + x2\n",
      "    array([[ 0.,  2.,  4.],\n",
      "           [ 3.,  5.,  7.],\n",
      "           [ 6.,  8., 10.]])\n",
      "\n"
     ]
    }
   ],
   "source": [
    "# 4\n",
    "help(np.add)"
   ]
  },
  {
   "cell_type": "code",
   "execution_count": 14,
   "id": "64002ea4",
   "metadata": {},
   "outputs": [
    {
     "name": "stdout",
     "output_type": "stream",
     "text": [
      "[10 11 12 13 14 15 16 17 18 19 20 21 22 23 24 25 26 27 28 29 30 31 32 33\n",
      " 34 35 36 37 38 39 40 41 42 43 44 45 46 47 48 49]\n"
     ]
    }
   ],
   "source": [
    "# 5\n",
    "vector = np.arange(10, 50)\n",
    "print(vector)"
   ]
  },
  {
   "cell_type": "code",
   "execution_count": 15,
   "id": "91d0a308",
   "metadata": {},
   "outputs": [
    {
     "name": "stdout",
     "output_type": "stream",
     "text": [
      "[49 48 47 46 45 44 43 42 41 40 39 38 37 36 35 34 33 32 31 30 29 28 27 26\n",
      " 25 24 23 22 21 20 19 18 17 16 15 14 13 12 11 10]\n"
     ]
    }
   ],
   "source": [
    "# 6\n",
    "vector_reversed = vector[::-1]\n",
    "print(vector_reversed)"
   ]
  },
  {
   "cell_type": "code",
   "execution_count": 16,
   "id": "0fe833ce",
   "metadata": {},
   "outputs": [
    {
     "name": "stdout",
     "output_type": "stream",
     "text": [
      "[[0 1 2]\n",
      " [3 4 5]\n",
      " [6 7 8]]\n"
     ]
    }
   ],
   "source": [
    "# 7\n",
    "matrix= np.arange(0,9).reshape(3,3)\n",
    "print(matrix)"
   ]
  },
  {
   "cell_type": "code",
   "execution_count": 17,
   "id": "35c17b50",
   "metadata": {},
   "outputs": [
    {
     "name": "stdout",
     "output_type": "stream",
     "text": [
      "(array([0, 1, 4]),)\n"
     ]
    }
   ],
   "source": [
    "# 8\n",
    "array= np.array([1,2,0,0,4,0])\n",
    "array_nonzero = array.nonzero()\n",
    "print(array_nonzero)\n"
   ]
  },
  {
   "cell_type": "code",
   "execution_count": 19,
   "id": "68c3bc4f",
   "metadata": {},
   "outputs": [
    {
     "name": "stdout",
     "output_type": "stream",
     "text": [
      "[[1. 0. 0.]\n",
      " [0. 1. 0.]\n",
      " [0. 0. 1.]]\n"
     ]
    }
   ],
   "source": [
    "# 9\n",
    "data=np.eye(3)\n",
    "print(data)"
   ]
  },
  {
   "cell_type": "code",
   "execution_count": null,
   "id": "adafbaf3",
   "metadata": {},
   "outputs": [
    {
     "name": "stdout",
     "output_type": "stream",
     "text": [
      "[[0 1 2 3 4]\n",
      " [0 1 2 3 4]\n",
      " [0 1 2 3 4]\n",
      " [0 1 2 3 4]\n",
      " [0 1 2 3 4]]\n"
     ]
    }
   ],
   "source": [
    "# 10\n",
    "data2=np.tile(np.arange(5),(5,1))\n",
    "print(data2)"
   ]
  },
  {
   "cell_type": "code",
   "execution_count": 29,
   "id": "788fd677",
   "metadata": {},
   "outputs": [
    {
     "name": "stdout",
     "output_type": "stream",
     "text": [
      "[0.08333333 0.16666667 0.25       0.33333333 0.41666667 0.5\n",
      " 0.58333333 0.66666667 0.75       0.83333333]\n"
     ]
    }
   ],
   "source": [
    "# 11\n",
    "vector=np.linspace(0, 1, 12, endpoint=False)[1:-1]\n",
    "print(vector)"
   ]
  },
  {
   "cell_type": "code",
   "execution_count": 32,
   "id": "97375ad0",
   "metadata": {},
   "outputs": [
    {
     "name": "stdout",
     "output_type": "stream",
     "text": [
      "[0.09108323 0.15074992 0.21750644 0.48265963 0.65317161 0.72498803\n",
      " 0.76989619 0.82933308 0.88016245 0.93954986]\n"
     ]
    }
   ],
   "source": [
    "# 12\n",
    "random_vector = np.random.random(10)\n",
    "random_vector.sort()\n",
    "print(random_vector)"
   ]
  },
  {
   "cell_type": "code",
   "execution_count": 33,
   "id": "44248727",
   "metadata": {},
   "outputs": [
    {
     "name": "stdout",
     "output_type": "stream",
     "text": [
      "Integer types:\n",
      "int8: min = -128, max = 127\n",
      "int32: min = -2147483648, max = 2147483647\n",
      "int64: min = -9223372036854775808, max = 9223372036854775807\n",
      "\n",
      "Floating-point types:\n",
      "float32: min = -3.4028234663852886e+38, max = 3.4028234663852886e+38\n",
      "float64: min = -1.7976931348623157e+308, max = 1.7976931348623157e+308\n"
     ]
    }
   ],
   "source": [
    "# 13\n",
    "# Integer types\n",
    "print(\"Integer types:\")\n",
    "for dtype in [np.int8, np.int32, np.int64]:\n",
    "    info = np.iinfo(dtype)\n",
    "    print(f\"{dtype.__name__}: min = {info.min}, max = {info.max}\")\n",
    "\n",
    "# Floating-point types\n",
    "print(\"\\nFloating-point types:\")\n",
    "for dtype in [np.float32, np.float64]:\n",
    "    info = np.finfo(dtype)\n",
    "    print(f\"{dtype.__name__}: min = {info.min}, max = {info.max}\")"
   ]
  },
  {
   "cell_type": "code",
   "execution_count": 34,
   "id": "dc0f3197",
   "metadata": {},
   "outputs": [
    {
     "name": "stdout",
     "output_type": "stream",
     "text": [
      "[1 2 3]\n"
     ]
    }
   ],
   "source": [
    "# 14\n",
    "array=np.array([1.5, 2.5, 3.5], dtype=np.float32)\n",
    "array_int = array.astype(np.int32)\n",
    "print(array_int)"
   ]
  },
  {
   "cell_type": "code",
   "execution_count": null,
   "id": "f19608f5",
   "metadata": {},
   "outputs": [
    {
     "name": "stdout",
     "output_type": "stream",
     "text": [
      "[[-1.  0.  1.]\n",
      " [-1.  0.  1.]]\n"
     ]
    }
   ],
   "source": [
    "# 15\n",
    "array = np.array([[1, 2, 3], [4, 5, 6]])\n",
    "row_mean= np.mean(array, axis=1)\n",
    "result=array - row_mean[:, np.newaxis]\n",
    "print(result)\n",
    "\n"
   ]
  },
  {
   "cell_type": "code",
   "execution_count": 39,
   "id": "589c7b0f",
   "metadata": {},
   "outputs": [
    {
     "name": "stdout",
     "output_type": "stream",
     "text": [
      "[[1 2 3]\n",
      " [4 5 6]]\n"
     ]
    }
   ],
   "source": [
    "# 16\n",
    "matrix = np.array([[1, 2, 3], [4, 5, 6]])\n",
    "sorted_matrix = np.sort(matrix, axis=0)\n",
    "print(sorted_matrix)"
   ]
  },
  {
   "cell_type": "code",
   "execution_count": null,
   "id": "4bbeb571",
   "metadata": {},
   "outputs": [],
   "source": []
  },
  {
   "cell_type": "code",
   "execution_count": 44,
   "id": "2fcff1dd",
   "metadata": {},
   "outputs": [
    {
     "name": "stdout",
     "output_type": "stream",
     "text": [
      "[[3 4 5]\n",
      " [0 1 2]\n",
      " [6 7 8]]\n"
     ]
    }
   ],
   "source": [
    "# 17\n",
    "array = np.array([[0, 1, 2], [3, 4, 5], [6, 7, 8]])\n",
    "array[[0, 1]] = array[[1, 0]]\n",
    "print(array)\n"
   ]
  },
  {
   "cell_type": "code",
   "execution_count": null,
   "id": "84014db3",
   "metadata": {},
   "outputs": [
    {
     "name": "stdout",
     "output_type": "stream",
     "text": [
      "[1 1 2 4 4 4 7 7 7 7 9 9 9 9 9]\n"
     ]
    },
    {
     "data": {
      "text/plain": [
       "array([0, 2, 1, 0, 3, 0, 0, 4, 0, 5])"
      ]
     },
     "execution_count": 51,
     "metadata": {},
     "output_type": "execute_result"
    }
   ],
   "source": [
    "# 18\n",
    "C = np.array([0, 2, 1, 0, 3, 0, 0, 4, 0, 5])\n",
    "A= np.repeat(np.arange(len(C)), C)\n",
    "print(A)\n",
    "np.bincount(A)"
   ]
  }
 ],
 "metadata": {
  "kernelspec": {
   "display_name": "Python 3",
   "language": "python",
   "name": "python3"
  },
  "language_info": {
   "codemirror_mode": {
    "name": "ipython",
    "version": 3
   },
   "file_extension": ".py",
   "mimetype": "text/x-python",
   "name": "python",
   "nbconvert_exporter": "python",
   "pygments_lexer": "ipython3",
   "version": "3.11.9"
  }
 },
 "nbformat": 4,
 "nbformat_minor": 5
}
