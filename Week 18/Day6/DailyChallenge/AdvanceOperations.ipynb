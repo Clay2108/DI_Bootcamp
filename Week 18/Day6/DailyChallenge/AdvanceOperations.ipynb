{
 "cells": [
  {
   "cell_type": "code",
   "execution_count": 1,
   "id": "3a5cc86d",
   "metadata": {},
   "outputs": [],
   "source": [
    "import numpy as np\n"
   ]
  },
  {
   "cell_type": "code",
   "execution_count": 7,
   "id": "fa0576ae",
   "metadata": {},
   "outputs": [
    {
     "name": "stdout",
     "output_type": "stream",
     "text": [
      "[[83 40  3 89 21]\n",
      " [99 24 39 58 88]\n",
      " [74 46 63 58 62]\n",
      " [37 55 79 93 75]\n",
      " [58 96 66 17 85]]\n"
     ]
    }
   ],
   "source": [
    "# 1\n",
    "data = np.array(np.random.randint(1, 100, size=25)).reshape(5,5)\n",
    "\n",
    "data[[1,4], :] = data[[4,1], :]\n",
    "print(data)\n"
   ]
  },
  {
   "cell_type": "code",
   "execution_count": 16,
   "id": "fe99fb47",
   "metadata": {},
   "outputs": [
    {
     "name": "stdout",
     "output_type": "stream",
     "text": [
      "[[0.66304348 0.31521739 0.90217391 0.75       1.        ]\n",
      " [0.59782609 0.38043478 0.7826087  0.59782609 0.64130435]\n",
      " [0.58695652 0.91304348 0.63043478 0.58695652 0.23913043]\n",
      " [0.         0.91304348 0.27173913 0.61956522 0.05434783]\n",
      " [0.06521739 0.82608696 0.25       0.90217391 0.79347826]]\n"
     ]
    }
   ],
   "source": [
    "# 2\n",
    "data = np.array(np.random.randint(1, 100, size=25)).reshape(5,5)\n",
    "min_val = data.min()\n",
    "max_val = data.max()\n",
    "normalized_matrix = (data - min_val) / (max_val - min_val)\n",
    "print(normalized_matrix)"
   ]
  },
  {
   "cell_type": "code",
   "execution_count": 17,
   "id": "ee5c9297",
   "metadata": {},
   "outputs": [
    {
     "name": "stdout",
     "output_type": "stream",
     "text": [
      "[[-0.98445339 -1.84049981  1.6264882  -0.94165106 -0.85604642]\n",
      " [-0.72763946  0.34241857  0.51362785  2.01170909  0.04280232]\n",
      " [-0.29961625 -1.92610445  0.04280232  0.72763946  1.58368588]\n",
      " [ 0.34241857 -0.12840696  0.47082553  1.15566267 -0.94165106]\n",
      " [ 0.47082553  0.55643017  0.21401161 -1.15566267 -0.29961625]]\n"
     ]
    }
   ],
   "source": [
    "# 3\n",
    "data = np.array(np.random.randint(1, 100, size=25)).reshape(5,5)\n",
    "mean_val = data.mean()\n",
    "std_val = data.std()\n",
    "z_score_data = (data - np.mean(data)) / np.std(data)\n",
    "print(z_score_data)\n",
    "\n"
   ]
  },
  {
   "cell_type": "code",
   "execution_count": 23,
   "id": "e016450b",
   "metadata": {},
   "outputs": [
    {
     "name": "stdout",
     "output_type": "stream",
     "text": [
      "[array([84, 19, 90, 85,  1], dtype=int32), array([58, 40, 21, 53, 92], dtype=int32), array([98, 99, 35,  6, 17], dtype=int32), array([17, 63, 69, 87, 49], dtype=int32), array([80, 91, 13, 88, 67], dtype=int32)]\n",
      "[array([84, 19, 90, 85,  1], dtype=int32), array([58, 40, 21, 53, 92], dtype=int32), array([98, 99, 35,  6, 17], dtype=int32), array([17, 63, 69, 87, 49], dtype=int32), array([80, 91, 13, 88, 67], dtype=int32)]\n",
      "[array([84, 19, 90, 85,  1], dtype=int32), array([58, 40, 21, 53, 92], dtype=int32), array([98, 99, 35,  6, 17], dtype=int32), array([17, 63, 69, 87, 49], dtype=int32), array([80, 91, 13, 88, 67], dtype=int32)]\n",
      "[array([84, 19, 90, 85,  1], dtype=int32), array([58, 40, 21, 53, 92], dtype=int32), array([98, 99, 35,  6, 17], dtype=int32), array([17, 63, 69, 87, 49], dtype=int32), array([80, 91, 13, 88, 67], dtype=int32)]\n",
      "[array([84, 19, 90, 85,  1], dtype=int32), array([58, 40, 21, 53, 92], dtype=int32), array([98, 99, 35,  6, 17], dtype=int32), array([17, 63, 69, 87, 49], dtype=int32), array([80, 91, 13, 88, 67], dtype=int32)]\n"
     ]
    }
   ],
   "source": [
    "# 4\n",
    "data = np.array(np.random.randint(1, 100, size=25)).reshape(5,5)\n",
    "vector=data.ravel()\n",
    "sub_arrays= np.array_split(vector, 5)\n",
    "for sub_array in sub_arrays:\n",
    " print(sub_arrays)"
   ]
  },
  {
   "cell_type": "code",
   "execution_count": 30,
   "id": "2cce8daa",
   "metadata": {},
   "outputs": [
    {
     "name": "stdout",
     "output_type": "stream",
     "text": [
      "198\n"
     ]
    }
   ],
   "source": [
    "# 5\n",
    "v1 = np.array([3, 5, 6, 7, 8])\n",
    "v2 = np.array([2, 4, 6, 8, 10])\n",
    "dot_product = np.dot(v1, v2)\n",
    "print(dot_product)"
   ]
  },
  {
   "cell_type": "code",
   "execution_count": 37,
   "id": "dcb91e68",
   "metadata": {},
   "outputs": [
    {
     "name": "stdout",
     "output_type": "stream",
     "text": [
      "[[4213215 4216218 4219221]\n",
      " [4225842 4228854 4231866]\n",
      " [4238469 4241490 4244511]]\n"
     ]
    }
   ],
   "source": [
    "# 6\n",
    "data1 = np.arange(1000, 1009).reshape(3, 3)\n",
    "data2 = np.arange(1400, 1409).reshape(3, 3)\n",
    "dot_product = np.dot(data1, data2)\n",
    "print(dot_product)\n"
   ]
  },
  {
   "cell_type": "code",
   "execution_count": 45,
   "id": "913ab7b8",
   "metadata": {},
   "outputs": [
    {
     "name": "stdout",
     "output_type": "stream",
     "text": [
      "[[1. 0. 0.]\n",
      " [0. 1. 0.]\n",
      " [0. 0. 1.]]\n",
      "[[2. 0. 0.]\n",
      " [0. 2. 0.]\n",
      " [0. 0. 2.]]\n",
      "[[0.5 0.  0. ]\n",
      " [0.  0.5 0. ]\n",
      " [0.  0.  0.5]]\n"
     ]
    }
   ],
   "source": [
    "# 7\n",
    "matrix=np.eye(3)\n",
    "scaled_matrix = 2 * matrix\n",
    "inverse_matrix = np.linalg.inv(scaled_matrix)\n",
    "\n",
    "print(matrix)\n",
    "print(scaled_matrix)\n",
    "print(inverse_matrix)"
   ]
  },
  {
   "cell_type": "code",
   "execution_count": null,
   "id": "f4dfda7a",
   "metadata": {},
   "outputs": [],
   "source": [
    "# 8 Eigenvalues and eigenvectors"
   ]
  },
  {
   "cell_type": "code",
   "execution_count": null,
   "id": "c4204aae",
   "metadata": {},
   "outputs": [],
   "source": [
    "# 9 Find missing values"
   ]
  },
  {
   "cell_type": "code",
   "execution_count": null,
   "id": "62523df1",
   "metadata": {},
   "outputs": [],
   "source": [
    "# 10\n",
    "# Replace missing values"
   ]
  }
 ],
 "metadata": {
  "kernelspec": {
   "display_name": "Python 3",
   "language": "python",
   "name": "python3"
  },
  "language_info": {
   "codemirror_mode": {
    "name": "ipython",
    "version": 3
   },
   "file_extension": ".py",
   "mimetype": "text/x-python",
   "name": "python",
   "nbconvert_exporter": "python",
   "pygments_lexer": "ipython3",
   "version": "3.11.9"
  }
 },
 "nbformat": 4,
 "nbformat_minor": 5
}
