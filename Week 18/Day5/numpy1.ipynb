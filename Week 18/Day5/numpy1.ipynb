{
 "cells": [
  {
   "cell_type": "code",
   "execution_count": 56,
   "id": "8b9143d5",
   "metadata": {},
   "outputs": [
    {
     "name": "stdout",
     "output_type": "stream",
     "text": [
      "[ 10  20  30  40  50  60  70  80  90 100]\n"
     ]
    }
   ],
   "source": [
    "import numpy as np\n",
    "np_marks= np.array([10,20,30,40,50,60,70,80,90,100])\n",
    "print(np_marks)"
   ]
  },
  {
   "cell_type": "code",
   "execution_count": 57,
   "id": "c00ed922",
   "metadata": {},
   "outputs": [
    {
     "name": "stdout",
     "output_type": "stream",
     "text": [
      "10\n"
     ]
    }
   ],
   "source": [
    "print(np_marks[0])  # Accessing the first element"
   ]
  },
  {
   "cell_type": "code",
   "execution_count": 58,
   "id": "b454fa36",
   "metadata": {},
   "outputs": [
    {
     "name": "stdout",
     "output_type": "stream",
     "text": [
      "[10 11 12 13 14 15 16 17 18 19 20]\n"
     ]
    }
   ],
   "source": [
    "# Exercise: Introduction to NumPy Arrays and Data Types\n",
    "\n",
    "# 1. Creating NumPy arrays : Create a 1D NumPy array with the numbers from 10 to 20 (inclusive), and print it.\n",
    "array_1d = np.arange(10, 21)\n",
    "print( array_1d)"
   ]
  },
  {
   "cell_type": "code",
   "execution_count": 59,
   "id": "18e40d34",
   "metadata": {},
   "outputs": [
    {
     "name": "stdout",
     "output_type": "stream",
     "text": [
      "10\n",
      "11\n"
     ]
    }
   ],
   "source": [
    "print(array_1d[0])  # Accessing the first element\n",
    "print(array_1d[1])  # Accessing the second element"
   ]
  },
  {
   "cell_type": "code",
   "execution_count": 60,
   "id": "8bca213b",
   "metadata": {},
   "outputs": [
    {
     "name": "stdout",
     "output_type": "stream",
     "text": [
      "1\n",
      "(11,)\n",
      "11\n",
      "int64\n"
     ]
    }
   ],
   "source": [
    "# array properties\n",
    "print(array_1d.ndim)  # Number of dimensions\n",
    "print(array_1d.shape)  # Shape of the array\n",
    "print(array_1d.size)  # Total number of elements\n",
    "print(array_1d.dtype)  # Data type of the elements"
   ]
  },
  {
   "cell_type": "code",
   "execution_count": 61,
   "id": "e5c1c1af",
   "metadata": {},
   "outputs": [
    {
     "name": "stdout",
     "output_type": "stream",
     "text": [
      "float64\n"
     ]
    }
   ],
   "source": [
    "float_array = array_1d.astype('float64')\n",
    "print(float_array.dtype)  # Data type of the elements after conversion"
   ]
  },
  {
   "cell_type": "code",
   "execution_count": 62,
   "id": "a87a9483",
   "metadata": {},
   "outputs": [
    {
     "name": "stdout",
     "output_type": "stream",
     "text": [
      "int64\n"
     ]
    }
   ],
   "source": [
    "int_array = float_array.astype('int64')\n",
    "print(int_array.dtype)  # Data type of the elements after conversion"
   ]
  },
  {
   "cell_type": "code",
   "execution_count": 63,
   "id": "38538407",
   "metadata": {},
   "outputs": [
    {
     "name": "stdout",
     "output_type": "stream",
     "text": [
      "[20 22 24 26 28 30 32 34 36 38 40]\n",
      "[20. 22. 24. 26. 28. 30. 32. 34. 36. 38. 40.]\n"
     ]
    }
   ],
   "source": [
    "# double element\n",
    "double_array1 = int_array * 2\n",
    "double_array2= float_array * 2\n",
    "print(double_array1)\n",
    "print(double_array2)"
   ]
  },
  {
   "cell_type": "code",
   "execution_count": 64,
   "id": "7c575a50",
   "metadata": {},
   "outputs": [
    {
     "name": "stdout",
     "output_type": "stream",
     "text": [
      "13\n"
     ]
    }
   ],
   "source": [
    "# Array Indexing and Slicing\n",
    "#1\n",
    "index_array1d= np.array([10,11,12,13,14,15,16,17,18,19,20,21])\n",
    "print(index_array1d[3])  # Accessing element at index 3"
   ]
  },
  {
   "cell_type": "code",
   "execution_count": 65,
   "id": "6324dc9a",
   "metadata": {},
   "outputs": [
    {
     "name": "stdout",
     "output_type": "stream",
     "text": [
      "6\n"
     ]
    }
   ],
   "source": [
    "#2\n",
    "array_2d = np.array([[1, 2, 3], [4, 5, 6], [7, 8, 9]])\n",
    "print(array_2d[1,2])"
   ]
  },
  {
   "cell_type": "code",
   "execution_count": 66,
   "id": "92fbd90c",
   "metadata": {},
   "outputs": [
    {
     "name": "stdout",
     "output_type": "stream",
     "text": [
      "[2 3 4 5]\n"
     ]
    }
   ],
   "source": [
    "#3\n",
    "Array_1d=np.array([0,1,2,3,4,5,6,7,8,9,10])\n",
    "print(Array_1d[2:6])  # Slicing elements from index 2 to 6 (exclusive of 6)"
   ]
  },
  {
   "cell_type": "code",
   "execution_count": 67,
   "id": "f685d217",
   "metadata": {},
   "outputs": [
    {
     "name": "stdout",
     "output_type": "stream",
     "text": [
      "[[2 3]\n",
      " [5 6]]\n"
     ]
    }
   ],
   "source": [
    "#4 Slice the array to extract the subarray consisting of the first two rows and the last two columns. Print the resulting subarray. \n",
    "print(array_2d[0:2,1:3])"
   ]
  },
  {
   "cell_type": "code",
   "execution_count": 68,
   "id": "cd459214",
   "metadata": {},
   "outputs": [
    {
     "name": "stdout",
     "output_type": "stream",
     "text": [
      "[20 21 22 23 24 25 26 27 28 29 30]\n"
     ]
    }
   ],
   "source": [
    "# Generating Values Sequences\n",
    "\n",
    "sequence=np.arange(20, 31)\n",
    "print(sequence)  # Generating a sequence of numbers from 20 to 30 (inclusive)"
   ]
  },
  {
   "cell_type": "code",
   "execution_count": 69,
   "id": "59f12c0b",
   "metadata": {},
   "outputs": [
    {
     "name": "stdout",
     "output_type": "stream",
     "text": [
      "[10 12 14 16 18 20]\n"
     ]
    }
   ],
   "source": [
    "step_sequence = np.arange(10, 21, 2)\n",
    "print(step_sequence)  # Generating a sequence of numbers from 10 to 20 with a step of 2"
   ]
  },
  {
   "cell_type": "code",
   "execution_count": 70,
   "id": "f09a1876",
   "metadata": {},
   "outputs": [
    {
     "name": "stdout",
     "output_type": "stream",
     "text": [
      "[0.   0.25 0.5  0.75 1.  ]\n"
     ]
    }
   ],
   "source": [
    "sequence1= np.linspace(0,1,5)\n",
    "print(sequence1)  # Generating a sequence of 5 numbers between 0 and 1 (inclusive)"
   ]
  },
  {
   "cell_type": "code",
   "execution_count": 71,
   "id": "76d3a3a1",
   "metadata": {},
   "outputs": [
    {
     "name": "stdout",
     "output_type": "stream",
     "text": [
      "[0.41386116 0.86865707 0.62951971]\n"
     ]
    }
   ],
   "source": [
    "sequence2 = np.random.rand(3)\n",
    "print(sequence2)  # Generating a sequence of 3 random numbers between 0 and 1"
   ]
  },
  {
   "cell_type": "code",
   "execution_count": 72,
   "id": "23c13a54",
   "metadata": {},
   "outputs": [
    {
     "name": "stdout",
     "output_type": "stream",
     "text": [
      "[4 7 7 9]\n"
     ]
    }
   ],
   "source": [
    "sequence3=np.random.randint(1,10,4)\n",
    "print(sequence3)  # Generating a sequence of 4 random integers between 1 and 10 (inclusive of 1, exclusive of 10)"
   ]
  },
  {
   "cell_type": "code",
   "execution_count": 73,
   "id": "ec2d5ac7",
   "metadata": {},
   "outputs": [
    {
     "name": "stdout",
     "output_type": "stream",
     "text": [
      "[1 2 3 4 5 6 7 8 9]\n"
     ]
    }
   ],
   "source": [
    "# Matrix Operations and Generating Values\n",
    "# 1\n",
    "data= np.arange(1,10)\n",
    "print(data)"
   ]
  },
  {
   "cell_type": "code",
   "execution_count": 74,
   "id": "57aed4f1",
   "metadata": {},
   "outputs": [
    {
     "name": "stdout",
     "output_type": "stream",
     "text": [
      "[[1 2 3]\n",
      " [4 5 6]\n",
      " [7 8 9]]\n"
     ]
    }
   ],
   "source": [
    "matrix1= np.reshape(data, (3, 3))\n",
    "print(matrix1)  # Reshaping the 1D array into a 2D matrix with shape (3, 3)"
   ]
  },
  {
   "cell_type": "code",
   "execution_count": 75,
   "id": "1ebdad11",
   "metadata": {},
   "outputs": [
    {
     "name": "stdout",
     "output_type": "stream",
     "text": [
      "[[10 20 30]\n",
      " [40 50 60]\n",
      " [70 80 90]]\n",
      "80\n"
     ]
    }
   ],
   "source": [
    "# 2\n",
    "matrix = np.array([[10, 20, 30], [40, 50, 60], [70, 80, 90]])\n",
    "print(matrix) \n",
    "print(matrix[2, 1]) # Accessing the element at row 2, column 1"
   ]
  },
  {
   "cell_type": "code",
   "execution_count": 76,
   "id": "feb05dce",
   "metadata": {},
   "outputs": [
    {
     "name": "stdout",
     "output_type": "stream",
     "text": [
      "[[-10.   0.  10.]\n",
      " [-10.   0.  10.]\n",
      " [-10.   0.  10.]]\n"
     ]
    }
   ],
   "source": [
    "# 3\n",
    "mean_subtracted = matrix - matrix.mean(axis=1, keepdims=True)\n",
    "\n",
    "print(mean_subtracted)"
   ]
  },
  {
   "cell_type": "code",
   "execution_count": 77,
   "id": "12e7f9ad",
   "metadata": {},
   "outputs": [
    {
     "name": "stdout",
     "output_type": "stream",
     "text": [
      "[[6 1 5]\n",
      " [4 2 3]\n",
      " [7 9 8]]\n"
     ]
    }
   ],
   "source": [
    "# 4\n",
    "matrix3 = np.array([[4, 2, 3], [6, 1, 5], [7, 9, 8]])\n",
    "matrix3[[0, 1]] = matrix3[[1, 0]]\n",
    "print(matrix3)  # Swapping the first and second rows of the matrix"
   ]
  },
  {
   "cell_type": "code",
   "execution_count": 78,
   "id": "312e5bed",
   "metadata": {},
   "outputs": [
    {
     "name": "stdout",
     "output_type": "stream",
     "text": [
      "[[4 2 3]\n",
      " [6 1 5]\n",
      " [7 9 8]]\n",
      "[[6 1 5]\n",
      " [4 2 3]\n",
      " [7 9 8]]\n"
     ]
    }
   ],
   "source": [
    "matrix4 = np.array([[4, 2, 3], [6, 1, 5], [7, 9, 8]])\n",
    "print (matrix4)\n",
    "sorted_matrix = matrix4[matrix4[:, 1].argsort()]\n",
    "print(sorted_matrix)  # Sorting the matrix based on the first column"
   ]
  },
  {
   "cell_type": "code",
   "execution_count": 79,
   "id": "4a2b677b",
   "metadata": {},
   "outputs": [
    {
     "name": "stdout",
     "output_type": "stream",
     "text": [
      "[[7 9 8]\n",
      " [6 1 5]\n",
      " [4 2 3]]\n"
     ]
    }
   ],
   "source": [
    "# swapping the first and third rows of the matrix\n",
    "matrix4 = np.array([[4, 2, 3], [6, 1, 5], [7, 9, 8]])\n",
    "matrix4[[0, 2]] = matrix4[[2, 0]]\n",
    "print(matrix4) "
   ]
  },
  {
   "cell_type": "code",
   "execution_count": 80,
   "id": "6aadfbb3",
   "metadata": {},
   "outputs": [
    {
     "name": "stdout",
     "output_type": "stream",
     "text": [
      "[ 1  4  9 16 25]\n"
     ]
    }
   ],
   "source": [
    "#  Functions and Computations in NumPy\n",
    "# 1\n",
    "array= np.array([1, 2, 3, 4, 5])\n",
    "print(np.square(array))"
   ]
  },
  {
   "cell_type": "code",
   "execution_count": 81,
   "id": "7fd41154",
   "metadata": {},
   "outputs": [
    {
     "name": "stdout",
     "output_type": "stream",
     "text": [
      "[ 7  9 11 13 15]\n",
      "[-5 -5 -5 -5 -5]\n",
      "[ 6 14 24 36 50]\n",
      "[0.16666667 0.28571429 0.375      0.44444444 0.5       ]\n"
     ]
    }
   ],
   "source": [
    "# 2\n",
    "array1= np.array([1, 2, 3, 4, 5])\n",
    "array2 = np.array([6, 7, 8, 9, 10])\n",
    "\n",
    "print (np.add(array1, array2)) \n",
    "print  (np.subtract(array1, array2))\n",
    "print(np.multiply(array1, array2)) \n",
    "print(np.divide(array1,array2)) # Element-wise multiplication of the two arrays"
   ]
  },
  {
   "cell_type": "code",
   "execution_count": 82,
   "id": "3afd2c7d",
   "metadata": {},
   "outputs": [
    {
     "name": "stdout",
     "output_type": "stream",
     "text": [
      "Help on ufunc in module numpy:\n",
      "\n",
      "add = <ufunc 'add'>\n",
      "    add(x1, x2, /, out=None, *, where=True, casting='same_kind', order='K', dtype=None, subok=True[, signature])\n",
      "    \n",
      "    Add arguments element-wise.\n",
      "    \n",
      "    Parameters\n",
      "    ----------\n",
      "    x1, x2 : array_like\n",
      "        The arrays to be added.\n",
      "        If ``x1.shape != x2.shape``, they must be broadcastable to a common\n",
      "        shape (which becomes the shape of the output).\n",
      "    out : ndarray, None, or tuple of ndarray and None, optional\n",
      "        A location into which the result is stored. If provided, it must have\n",
      "        a shape that the inputs broadcast to. If not provided or None,\n",
      "        a freshly-allocated array is returned. A tuple (possible only as a\n",
      "        keyword argument) must have length equal to the number of outputs.\n",
      "    where : array_like, optional\n",
      "        This condition is broadcast over the input. At locations where the\n",
      "        condition is True, the `out` array will be set to the ufunc result.\n",
      "        Elsewhere, the `out` array will retain its original value.\n",
      "        Note that if an uninitialized `out` array is created via the default\n",
      "        ``out=None``, locations within it where the condition is False will\n",
      "        remain uninitialized.\n",
      "    **kwargs\n",
      "        For other keyword-only arguments, see the\n",
      "        :ref:`ufunc docs <ufuncs.kwargs>`.\n",
      "    \n",
      "    Returns\n",
      "    -------\n",
      "    add : ndarray or scalar\n",
      "        The sum of `x1` and `x2`, element-wise.\n",
      "        This is a scalar if both `x1` and `x2` are scalars.\n",
      "    \n",
      "    Notes\n",
      "    -----\n",
      "    Equivalent to `x1` + `x2` in terms of array broadcasting.\n",
      "    \n",
      "    Examples\n",
      "    --------\n",
      "    >>> import numpy as np\n",
      "    >>> np.add(1.0, 4.0)\n",
      "    5.0\n",
      "    >>> x1 = np.arange(9.0).reshape((3, 3))\n",
      "    >>> x2 = np.arange(3.0)\n",
      "    >>> np.add(x1, x2)\n",
      "    array([[  0.,   2.,   4.],\n",
      "           [  3.,   5.,   7.],\n",
      "           [  6.,   8.,  10.]])\n",
      "    \n",
      "    The ``+`` operator can be used as a shorthand for ``np.add`` on ndarrays.\n",
      "    \n",
      "    >>> x1 = np.arange(9.0).reshape((3, 3))\n",
      "    >>> x2 = np.arange(3.0)\n",
      "    >>> x1 + x2\n",
      "    array([[ 0.,  2.,  4.],\n",
      "           [ 3.,  5.,  7.],\n",
      "           [ 6.,  8., 10.]])\n",
      "\n"
     ]
    }
   ],
   "source": [
    "# 3\n",
    "help(np.add)  # Displaying the documentation for the np.add function"
   ]
  },
  {
   "cell_type": "code",
   "execution_count": 87,
   "id": "dd8056f9",
   "metadata": {},
   "outputs": [
    {
     "name": "stdout",
     "output_type": "stream",
     "text": [
      "[[ 1  2  3  4  5]\n",
      " [ 6  7  8  9 10]\n",
      " [11 12 13 14 15]\n",
      " [16 17 18 19 20]\n",
      " [21 22 23 24 25]]\n",
      "[[ 3  4  5]\n",
      " [ 8  9 10]\n",
      " [13 14 15]]\n"
     ]
    }
   ],
   "source": [
    "# Advanced NumPy Operations\n",
    "\n",
    "# a\n",
    "array_2d = np.arange(1, 26).reshape(5, 5)\n",
    "print(array_2d)  # Creating a 2D array with numbers from 1 to 25\n",
    "\n",
    "# b\n",
    "subarray = array_2d[:3, -3:]\n",
    "print(subarray)"
   ]
  },
  {
   "cell_type": "code",
   "execution_count": null,
   "id": "861e8368",
   "metadata": {},
   "outputs": [
    {
     "name": "stdout",
     "output_type": "stream",
     "text": [
      "[[ 1  2  3  4 10]\n",
      " [ 6  7  8  9 11]\n",
      " [11 12 13 14 12]\n",
      " [16 17 18 19 13]\n",
      " [21 22 23 24 14]]\n"
     ]
    }
   ],
   "source": [
    "# c \n",
    "# Replace the last column of array2D with the numbers 10 to 14 (inclusive).\n",
    "array_2d[:, -1] = np.arange(10, 15)\n",
    "print(array_2d)"
   ]
  },
  {
   "cell_type": "code",
   "execution_count": 89,
   "id": "e98c8a71",
   "metadata": {},
   "outputs": [
    {
     "name": "stdout",
     "output_type": "stream",
     "text": [
      "[[ 84  90  96]\n",
      " [201 216 231]\n",
      " [318 342 366]]\n"
     ]
    }
   ],
   "source": [
    "matrix1= np.arange(1, 10).reshape(3, 3)\n",
    "matrix2=np.arange(10, 19).reshape(3, 3)\n",
    "print (np.matmul(matrix1, matrix2))  # Element-wise multiplication of the two matrices\n",
    "\n",
    "\n"
   ]
  },
  {
   "cell_type": "code",
   "execution_count": null,
   "id": "c5fe8996",
   "metadata": {},
   "outputs": [
    {
     "name": "stdout",
     "output_type": "stream",
     "text": [
      "[[ 10  22  36]\n",
      " [ 52  70  90]\n",
      " [112 136 162]]\n"
     ]
    }
   ],
   "source": [
    "\n",
    "# element-wise multiplication: Multiply matrix1 and matrix2 element-wise.\n",
    "elementwise_product = matrix1 * matrix2\n",
    "print(elementwise_product)"
   ]
  },
  {
   "cell_type": "code",
   "execution_count": null,
   "id": "76748537",
   "metadata": {},
   "outputs": [
    {
     "name": "stdout",
     "output_type": "stream",
     "text": [
      "[[1 4 7]\n",
      " [2 5 8]\n",
      " [3 6 9]]\n"
     ]
    }
   ],
   "source": [
    "# Print the transposition of matrix1.\n",
    "transposed_matrix1 = matrix1.T\n",
    "print(transposed_matrix1)"
   ]
  },
  {
   "cell_type": "code",
   "execution_count": null,
   "id": "be5d27a8",
   "metadata": {},
   "outputs": [
    {
     "name": "stdout",
     "output_type": "stream",
     "text": [
      "[20 21 22 23 24 25 26 27 28 29 30 31 32 33 34 35 36 37 38 39 40]\n"
     ]
    }
   ],
   "source": [
    "#  Generating Sequences and Array Indexing\n",
    "sequence= np.arange(20,41)\n",
    "print(sequence)  # Generating a sequence of numbers from 20 to 40 (inclusive"
   ]
  },
  {
   "cell_type": "code",
   "execution_count": null,
   "id": "9d696143",
   "metadata": {},
   "outputs": [
    {
     "name": "stdout",
     "output_type": "stream",
     "text": [
      "[31 32 33 34 35 36 37 38 39 40]\n"
     ]
    }
   ],
   "source": [
    "print(sequence[sequence > 30])"
   ]
  },
  {
   "cell_type": "code",
   "execution_count": null,
   "id": "0f667db4",
   "metadata": {},
   "outputs": [
    {
     "name": "stdout",
     "output_type": "stream",
     "text": [
      "[3 3 2 2]\n"
     ]
    }
   ],
   "source": [
    "#  Understanding Bincount and Array Recreation: \n",
    "\n",
    "numbers = np.array([2, 2, 1, 1, 1, 0, 0, 0, 3, 3])\n",
    "counts = np.bincount(numbers)\n",
    "print(counts)  # Counting the occurrences of each number in the array"
   ]
  },
  {
   "cell_type": "code",
   "execution_count": null,
   "id": "730f7684",
   "metadata": {},
   "outputs": [
    {
     "name": "stdout",
     "output_type": "stream",
     "text": [
      "[0 0 0 1 1 1 2 2 3 3]\n"
     ]
    }
   ],
   "source": [
    "recreated_array = np.repeat(np.arange(len(counts)), counts)\n",
    "print(recreated_array)  # Recreating the original array from the counts"
   ]
  },
  {
   "cell_type": "code",
   "execution_count": null,
   "id": "22019212",
   "metadata": {},
   "outputs": [],
   "source": []
  }
 ],
 "metadata": {
  "kernelspec": {
   "display_name": "Python 3",
   "language": "python",
   "name": "python3"
  },
  "language_info": {
   "codemirror_mode": {
    "name": "ipython",
    "version": 3
   },
   "file_extension": ".py",
   "mimetype": "text/x-python",
   "name": "python",
   "nbconvert_exporter": "python",
   "pygments_lexer": "ipython3",
   "version": "3.11.9"
  }
 },
 "nbformat": 4,
 "nbformat_minor": 5
}
