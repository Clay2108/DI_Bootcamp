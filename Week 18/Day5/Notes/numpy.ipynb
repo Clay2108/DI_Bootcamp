{
 "cells": [
  {
   "cell_type": "code",
   "execution_count": null,
   "id": "98859aa1",
   "metadata": {},
   "outputs": [
    {
     "name": "stdout",
     "output_type": "stream",
     "text": [
      "[10, 20, 30]\n"
     ]
    }
   ],
   "source": [
    "#standard python list/array\n",
    "marks=[10,20,30]\n",
    "\n",
    "print(marks)"
   ]
  },
  {
   "cell_type": "code",
   "execution_count": 10,
   "id": "04bb306d",
   "metadata": {},
   "outputs": [
    {
     "name": "stdout",
     "output_type": "stream",
     "text": [
      "[10 20 30]\n"
     ]
    }
   ],
   "source": [
    "import numpy as np\n",
    "\n",
    "np_marks=np.array([10,20,30])\n",
    "\n",
    "print(np_marks)"
   ]
  },
  {
   "cell_type": "code",
   "execution_count": 7,
   "id": "a26a027f",
   "metadata": {},
   "outputs": [
    {
     "name": "stdout",
     "output_type": "stream",
     "text": [
      "10\n",
      "20\n",
      "30\n"
     ]
    }
   ],
   "source": [
    "print(np_marks[0])  #access first element\n",
    "print(np_marks[1])  #access second element\n",
    "print(np_marks[2])  #access third element"
   ]
  },
  {
   "cell_type": "code",
   "execution_count": 8,
   "id": "c0c81f95",
   "metadata": {},
   "outputs": [
    {
     "name": "stdout",
     "output_type": "stream",
     "text": [
      "100\n"
     ]
    }
   ],
   "source": [
    "np_marks[0] = 100  #update first element\n",
    "print(np_marks[0])  #access first element after update"
   ]
  },
  {
   "cell_type": "code",
   "execution_count": 9,
   "id": "8ff987b3",
   "metadata": {},
   "outputs": [
    {
     "name": "stdout",
     "output_type": "stream",
     "text": [
      "(3,)\n",
      "int64\n",
      "1\n",
      "3\n"
     ]
    }
   ],
   "source": [
    "#properties of numpy array\n",
    "print(np_marks.shape)  #shape of the array\n",
    "print(np_marks.dtype)  #data type of the array\n",
    "print(np_marks.ndim)  #number of dimensions of the array\n",
    "print(np_marks.size)  #number of elements in the array"
   ]
  },
  {
   "cell_type": "code",
   "execution_count": null,
   "id": "51475406",
   "metadata": {},
   "outputs": [
    {
     "name": "stdout",
     "output_type": "stream",
     "text": [
      "[10 20 30 40 50 60]\n",
      "(6,)\n",
      "int64\n",
      "1\n",
      "6\n"
     ]
    }
   ],
   "source": [
    "data=[10,20,30,40,50,60]\n",
    "np_data=np.array(data)\n",
    "print(np_data)\n",
    "\n",
    "\n",
    "print(np_data.shape)  \n",
    "print(np_data.dtype) \n",
    "print(np_data.ndim)  \n",
    "print(np_data.size) "
   ]
  },
  {
   "cell_type": "code",
   "execution_count": 16,
   "id": "6927faea",
   "metadata": {},
   "outputs": [
    {
     "name": "stdout",
     "output_type": "stream",
     "text": [
      "[[1, 2], [3, 4]]\n"
     ]
    }
   ],
   "source": [
    "normal=[[1,2],[3,4]]\n",
    "print(normal)"
   ]
  },
  {
   "cell_type": "code",
   "execution_count": null,
   "id": "1ea2487b",
   "metadata": {},
   "outputs": [
    {
     "name": "stdout",
     "output_type": "stream",
     "text": [
      "[[1 2]\n",
      " [3 4]]\n",
      "(2, 2)\n",
      "int64\n",
      "2\n",
      "4\n"
     ]
    }
   ],
   "source": [
    "data=np.array([[1,2],[3,4]])\n",
    "print(data)\n",
    "\n",
    "print(data.shape)  \n",
    "print(data.dtype) \n",
    "print(data.ndim)  \n",
    "print(data.size) "
   ]
  },
  {
   "cell_type": "code",
   "execution_count": 21,
   "id": "79fcbc46",
   "metadata": {},
   "outputs": [
    {
     "name": "stdout",
     "output_type": "stream",
     "text": [
      "6\n",
      "30\n"
     ]
    }
   ],
   "source": [
    "#array indexing\n",
    "data=np.array([10,20,30,40,50,60])\n",
    "\n",
    "print(data.size)\n",
    "\n",
    "print(data[2]) "
   ]
  },
  {
   "cell_type": "code",
   "execution_count": 23,
   "id": "2491712c",
   "metadata": {},
   "outputs": [
    {
     "name": "stdout",
     "output_type": "stream",
     "text": [
      "3\n"
     ]
    }
   ],
   "source": [
    "normal=[[1,2],[3,4],[5,6]]\n",
    "\n",
    "print(normal[1][0])"
   ]
  },
  {
   "cell_type": "code",
   "execution_count": 25,
   "id": "aedc5762",
   "metadata": {},
   "outputs": [
    {
     "name": "stdout",
     "output_type": "stream",
     "text": [
      "[[1 2]\n",
      " [3 4]\n",
      " [5 6]]\n",
      "3\n",
      "6\n"
     ]
    }
   ],
   "source": [
    "test=np.array([[1,2],[3,4],[5,6]])\n",
    "print(test)\n",
    "\n",
    "print(test[1,0]) #accessing element at row 1, column 0\n",
    "\n",
    "print(test[2,1]) "
   ]
  },
  {
   "cell_type": "code",
   "execution_count": null,
   "id": "2ed475c8",
   "metadata": {},
   "outputs": [
    {
     "name": "stdout",
     "output_type": "stream",
     "text": [
      "[10 20 30]\n",
      "[50 60]\n"
     ]
    }
   ],
   "source": [
    "#arrray slicing\n",
    "\n",
    "data2=data[0:3]  #slicing the array\n",
    "print(data2)  #print sliced array\n",
    "\n",
    "last2=data[-2:]  #last two elements\n",
    "print(last2)  #print last two elements"
   ]
  },
  {
   "cell_type": "code",
   "execution_count": 27,
   "id": "0e8b2374",
   "metadata": {},
   "outputs": [
    {
     "name": "stdout",
     "output_type": "stream",
     "text": [
      "[[0. 0. 0.]\n",
      " [0. 0. 0.]\n",
      " [0. 0. 0.]\n",
      " [0. 0. 0.]]\n"
     ]
    }
   ],
   "source": [
    "test=np.zeros([4,3])  #create a 4x3 array of zeros\n",
    "print(test)"
   ]
  },
  {
   "cell_type": "code",
   "execution_count": 30,
   "id": "6c481169",
   "metadata": {},
   "outputs": [
    {
     "name": "stdout",
     "output_type": "stream",
     "text": [
      "[[1. 1. 1.]\n",
      " [1. 1. 1.]\n",
      " [1. 1. 1.]\n",
      " [1. 1. 1.]]\n"
     ]
    }
   ],
   "source": [
    "test1=np.ones([4,3])  #create a 4x3 array of ones\n",
    "print(test1)"
   ]
  },
  {
   "cell_type": "code",
   "execution_count": 31,
   "id": "ea3f6a39",
   "metadata": {},
   "outputs": [
    {
     "name": "stdout",
     "output_type": "stream",
     "text": [
      "[[5. 5. 5.]\n",
      " [5. 5. 5.]\n",
      " [5. 5. 5.]\n",
      " [5. 5. 5.]]\n"
     ]
    }
   ],
   "source": [
    "test2=test1*5\n",
    "\n",
    "print(test2)  #multiply each element by 5"
   ]
  },
  {
   "cell_type": "code",
   "execution_count": 32,
   "id": "2fca7759",
   "metadata": {},
   "outputs": [
    {
     "name": "stdout",
     "output_type": "stream",
     "text": [
      "[[6. 6. 6.]\n",
      " [6. 6. 6.]\n",
      " [6. 6. 6.]\n",
      " [6. 6. 6.]]\n"
     ]
    }
   ],
   "source": [
    "test3=test1+test2\n",
    "print(test3)  #add two arrays element-wise"
   ]
  },
  {
   "cell_type": "code",
   "execution_count": 36,
   "id": "69fa635b",
   "metadata": {},
   "outputs": [
    {
     "name": "stdout",
     "output_type": "stream",
     "text": [
      "[0 2 4 6 8]\n",
      "[ 0.   2.5  5.   7.5 10. ]\n"
     ]
    }
   ],
   "source": [
    "data=np.arange(0,10,2)\n",
    "print(data)  #create an array with values from 0 to 10 with step 2\n",
    "\n",
    "\n",
    "data2=np.linspace(0,10,5)  #create an array with 5 equally spaced values from 0 to 10\n",
    "print(data2)  #print the array with equally spaced values"
   ]
  },
  {
   "cell_type": "code",
   "execution_count": 49,
   "id": "f72fa701",
   "metadata": {},
   "outputs": [
    {
     "name": "stdout",
     "output_type": "stream",
     "text": [
      "[32. 58. 33. 43. 42.]\n"
     ]
    }
   ],
   "source": [
    "#generate random numbers\n",
    "data4=np.random.rand(5)  #generate 5 random numbers\n",
    "print(np.floor(data4*100))  #print the random numbers"
   ]
  },
  {
   "cell_type": "code",
   "execution_count": 50,
   "id": "9dae891b",
   "metadata": {},
   "outputs": [
    {
     "name": "stdout",
     "output_type": "stream",
     "text": [
      "[31 34 80 65 93 89 34 57 20 82]\n"
     ]
    }
   ],
   "source": [
    "data5=np.random.randint(0,100,10)  #generate 5 random integers between 0 and 100\n",
    "print(data5)  #print the random integers"
   ]
  },
  {
   "cell_type": "code",
   "execution_count": 51,
   "id": "3ff5f59c",
   "metadata": {},
   "outputs": [
    {
     "name": "stdout",
     "output_type": "stream",
     "text": [
      "[[10 20 30]\n",
      " [40 50 60]]\n"
     ]
    }
   ],
   "source": [
    "data=np.array([10,20,30,40,50,60])\n",
    "data2=data.reshape(2,3)  #reshape the array to 2 rows and 3 columns\n",
    "print(data2)  #print the reshaped array"
   ]
  },
  {
   "cell_type": "code",
   "execution_count": 52,
   "id": "d35fe73d",
   "metadata": {},
   "outputs": [
    {
     "name": "stdout",
     "output_type": "stream",
     "text": [
      "[[1. 0. 0. 0. 0.]\n",
      " [0. 1. 0. 0. 0.]\n",
      " [0. 0. 1. 0. 0.]\n",
      " [0. 0. 0. 1. 0.]\n",
      " [0. 0. 0. 0. 1.]]\n"
     ]
    }
   ],
   "source": [
    "daat6=np.eye(5)\n",
    "print(daat6)  #print the identity matrix of size 5x5"
   ]
  },
  {
   "cell_type": "code",
   "execution_count": 54,
   "id": "54ae9931",
   "metadata": {},
   "outputs": [
    {
     "name": "stdout",
     "output_type": "stream",
     "text": [
      "[[1 2 3]\n",
      " [4 5 6]\n",
      " [7 8 9]]\n",
      "[2 5 8]\n"
     ]
    }
   ],
   "source": [
    "#extract columsn from a 2D array\n",
    "\n",
    "data7=np.array([[1,2,3],[4,5,6],[7,8,9]])\n",
    "\n",
    "print(data7)\n",
    "\n",
    "\n",
    "second_column = data7[:, 1]  #extract second column\n",
    "print(second_column)  #print the second column"
   ]
  },
  {
   "cell_type": "code",
   "execution_count": 55,
   "id": "f588b75e",
   "metadata": {},
   "outputs": [
    {
     "name": "stdout",
     "output_type": "stream",
     "text": [
      "[4. 5. 6.]\n"
     ]
    }
   ],
   "source": [
    "avg=np.mean(data7, axis=0)  #calculate average of each column\n",
    "print(avg)  #print the average of each column"
   ]
  },
  {
   "cell_type": "code",
   "execution_count": null,
   "id": "8c760e54",
   "metadata": {},
   "outputs": [
    {
     "name": "stdout",
     "output_type": "stream",
     "text": [
      "[[1 2 3]\n",
      " [4 5 6]\n",
      " [7 8 9]]\n",
      "[[1 3 2]\n",
      " [4 6 5]\n",
      " [7 9 8]]\n"
     ]
    }
   ],
   "source": [
    "data7=np.array([[1,2,3],[4,5,6],[7,8,9]])\n",
    "print(data7)\n",
    "\n",
    "\n",
    "#swap 2nd and 3rd column\n",
    "data7[:, [1, 2]] = data7[:, [2, 1]]  #swap 2nd and 3rd column\n",
    "\n",
    "print(data7)  #print the array after swapping columns"
   ]
  },
  {
   "cell_type": "code",
   "execution_count": 57,
   "id": "d4c2d69a",
   "metadata": {},
   "outputs": [
    {
     "name": "stdout",
     "output_type": "stream",
     "text": [
      "[[1.         1.73205081 1.41421356]\n",
      " [2.         2.44948974 2.23606798]\n",
      " [2.64575131 3.         2.82842712]]\n"
     ]
    }
   ],
   "source": [
    "#square root of each element\n",
    "data8 = np.sqrt(data7)  #calculate square root of each element\n",
    "print(data8)  #print the square root of each element"
   ]
  },
  {
   "cell_type": "code",
   "execution_count": 59,
   "id": "1b2822d3",
   "metadata": {},
   "outputs": [
    {
     "name": "stdout",
     "output_type": "stream",
     "text": [
      "1\n",
      "9\n"
     ]
    }
   ],
   "source": [
    "print(np.min(data7))\n",
    "print(np.max(data7))"
   ]
  },
  {
   "cell_type": "code",
   "execution_count": 60,
   "id": "dc5f97ba",
   "metadata": {},
   "outputs": [
    {
     "name": "stdout",
     "output_type": "stream",
     "text": [
      "Help on _ArrayFunctionDispatcher in module numpy:\n",
      "\n",
      "mean(\n",
      "    a,\n",
      "    axis=None,\n",
      "    dtype=None,\n",
      "    out=None,\n",
      "    keepdims=<no value>,\n",
      "    *,\n",
      "    where=<no value>\n",
      ")\n",
      "    Compute the arithmetic mean along the specified axis.\n",
      "\n",
      "    Returns the average of the array elements.  The average is taken over\n",
      "    the flattened array by default, otherwise over the specified axis.\n",
      "    `float64` intermediate and return values are used for integer inputs.\n",
      "\n",
      "    Parameters\n",
      "    ----------\n",
      "    a : array_like\n",
      "        Array containing numbers whose mean is desired. If `a` is not an\n",
      "        array, a conversion is attempted.\n",
      "    axis : None or int or tuple of ints, optional\n",
      "        Axis or axes along which the means are computed. The default is to\n",
      "        compute the mean of the flattened array.\n",
      "\n",
      "        If this is a tuple of ints, a mean is performed over multiple axes,\n",
      "        instead of a single axis or all the axes as before.\n",
      "    dtype : data-type, optional\n",
      "        Type to use in computing the mean.  For integer inputs, the default\n",
      "        is `float64`; for floating point inputs, it is the same as the\n",
      "        input dtype.\n",
      "    out : ndarray, optional\n",
      "        Alternate output array in which to place the result.  The default\n",
      "        is ``None``; if provided, it must have the same shape as the\n",
      "        expected output, but the type will be cast if necessary.\n",
      "        See :ref:`ufuncs-output-type` for more details.\n",
      "        See :ref:`ufuncs-output-type` for more details.\n",
      "\n",
      "    keepdims : bool, optional\n",
      "        If this is set to True, the axes which are reduced are left\n",
      "        in the result as dimensions with size one. With this option,\n",
      "        the result will broadcast correctly against the input array.\n",
      "\n",
      "        If the default value is passed, then `keepdims` will not be\n",
      "        passed through to the `mean` method of sub-classes of\n",
      "        `ndarray`, however any non-default value will be.  If the\n",
      "        sub-class' method does not implement `keepdims` any\n",
      "        exceptions will be raised.\n",
      "\n",
      "    where : array_like of bool, optional\n",
      "        Elements to include in the mean. See `~numpy.ufunc.reduce` for details.\n",
      "\n",
      "        .. versionadded:: 1.20.0\n",
      "\n",
      "    Returns\n",
      "    -------\n",
      "    m : ndarray, see dtype parameter above\n",
      "        If `out=None`, returns a new array containing the mean values,\n",
      "        otherwise a reference to the output array is returned.\n",
      "\n",
      "    See Also\n",
      "    --------\n",
      "    average : Weighted average\n",
      "    std, var, nanmean, nanstd, nanvar\n",
      "\n",
      "    Notes\n",
      "    -----\n",
      "    The arithmetic mean is the sum of the elements along the axis divided\n",
      "    by the number of elements.\n",
      "\n",
      "    Note that for floating-point input, the mean is computed using the\n",
      "    same precision the input has.  Depending on the input data, this can\n",
      "    cause the results to be inaccurate, especially for `float32` (see\n",
      "    example below).  Specifying a higher-precision accumulator using the\n",
      "    `dtype` keyword can alleviate this issue.\n",
      "\n",
      "    By default, `float16` results are computed using `float32` intermediates\n",
      "    for extra precision.\n",
      "\n",
      "    Examples\n",
      "    --------\n",
      "    >>> import numpy as np\n",
      "    >>> a = np.array([[1, 2], [3, 4]])\n",
      "    >>> np.mean(a)\n",
      "    2.5\n",
      "    >>> np.mean(a, axis=0)\n",
      "    array([2., 3.])\n",
      "    >>> np.mean(a, axis=1)\n",
      "    array([1.5, 3.5])\n",
      "\n",
      "    In single precision, `mean` can be inaccurate:\n",
      "\n",
      "    >>> a = np.zeros((2, 512*512), dtype=np.float32)\n",
      "    >>> a[0, :] = 1.0\n",
      "    >>> a[1, :] = 0.1\n",
      "    >>> np.mean(a)\n",
      "    np.float32(0.54999924)\n",
      "\n",
      "    Computing the mean in float64 is more accurate:\n",
      "\n",
      "    >>> np.mean(a, dtype=np.float64)\n",
      "    0.55000000074505806 # may vary\n",
      "\n",
      "    Computing the mean in timedelta64 is available:\n",
      "\n",
      "    >>> b = np.array([1, 3], dtype=\"timedelta64[D]\")\n",
      "    >>> np.mean(b)\n",
      "    np.timedelta64(2,'D')\n",
      "\n",
      "    Specifying a where argument:\n",
      "\n",
      "    >>> a = np.array([[5, 9, 13], [14, 10, 12], [11, 15, 19]])\n",
      "    >>> np.mean(a)\n",
      "    12.0\n",
      "    >>> np.mean(a, where=[[True], [False], [False]])\n",
      "    9.0\n",
      "\n"
     ]
    }
   ],
   "source": [
    "help(np.mean)  #get help on mean function"
   ]
  },
  {
   "cell_type": "code",
   "execution_count": 61,
   "id": "7e6b4335",
   "metadata": {},
   "outputs": [
    {
     "name": "stdout",
     "output_type": "stream",
     "text": [
      "(array([0, 1, 3, 5]),)\n"
     ]
    }
   ],
   "source": [
    "test=np.array([10,20,0,40,0,60])\n",
    "\n",
    "#find non zero indices\n",
    "non_zero_indices = np.nonzero(test)  #find non-zero indices\n",
    "print(non_zero_indices)  #print the non-zero indices"
   ]
  }
 ],
 "metadata": {
  "kernelspec": {
   "display_name": "Python 3",
   "language": "python",
   "name": "python3"
  },
  "language_info": {
   "codemirror_mode": {
    "name": "ipython",
    "version": 3
   },
   "file_extension": ".py",
   "mimetype": "text/x-python",
   "name": "python",
   "nbconvert_exporter": "python",
   "pygments_lexer": "ipython3",
   "version": "3.13.4"
  }
 },
 "nbformat": 4,
 "nbformat_minor": 5
}
